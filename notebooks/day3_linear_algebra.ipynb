{
 "cells": [
  {
   "cell_type": "markdown",
   "id": "67e6307f-e45e-416b-a1ae-006437e42aeb",
   "metadata": {
    "slideshow": {
     "slide_type": "slide"
    }
   },
   "source": [
    "# Introduction to Linear Algebra <br> (Python, NumPy & Torch)"
   ]
  },
  {
   "cell_type": "markdown",
   "id": "953744d9-a27a-4082-9584-338a574cabd4",
   "metadata": {
    "slideshow": {
     "slide_type": "slide"
    }
   },
   "source": [
    "## Code Preamble"
   ]
  },
  {
   "cell_type": "code",
   "execution_count": 1,
   "id": "79f76346-184a-4d45-89c7-47438fc5216a",
   "metadata": {
    "slideshow": {
     "slide_type": "fragment"
    }
   },
   "outputs": [],
   "source": [
    "%matplotlib inline\n",
    "import numpy as np\n",
    "import matplotlib.pyplot as plt\n",
    "import math\n",
    "import torch"
   ]
  },
  {
   "cell_type": "markdown",
   "id": "3e52bf2a-9977-4117-86e2-a7fd98a7d844",
   "metadata": {
    "slideshow": {
     "slide_type": "slide"
    }
   },
   "source": [
    "## Resources\n",
    "\n",
    "Forked from, but with extensive edits and additions to:\n",
    "\n",
    "- [bvanderlei](https://github.com/bvanderlei): [Jupyter Guide to Linear Algebra](https://bvanderlei.github.io/jupyter-guide-to-linear-algebra)\n",
    "\n",
    "Other resources:\n",
    "\n",
    "- S. Lipschutz & M. Lipson (2018). [Schaum's Outlines - Linear Algebra](http://libgen.rs/book/index.php?md5=A968FD5BA2085A8FE2CBD87A6AAACB65). Sixth Ed. McGraw-Hill.\n",
    "- S. Axler (2015). [Linear Algebra Done Right](http://libgen.rs/book/index.php?md5=FA472BC434699EFE0F9BD5DC4E2E595E). Third Ed. Springer.\n",
    "- I. Goodfellow, Y. Bengio & A. Courville (2016). [Deep Learning](https://www.deeplearningbook.org/). MIT Press.\n",
    "- Various blogs and Stack Exchange threads :-)"
   ]
  },
  {
   "cell_type": "markdown",
   "id": "77e0c4b0-dbb6-48ba-bdf1-f67c40e38b9b",
   "metadata": {
    "slideshow": {
     "slide_type": "slide"
    },
    "tags": []
   },
   "source": [
    "# Scalars, Vectors, Matrices and Tensors"
   ]
  },
  {
   "cell_type": "markdown",
   "id": "d8af1a82-05fc-44b2-9ab0-27e43f1e5c2a",
   "metadata": {
    "slideshow": {
     "slide_type": "fragment"
    }
   },
   "source": [
    "1. **Scalars:** A scalar is just a single number, in contrast to most of the other objects studied in linear algebra, which are usually arrays of multiple numbers. \n",
    "2. **Vectors:** A vector is an array of numbers. The numbers are arranged in order. We can identify each individual number by its index in that ordering.\n",
    "3. **Matrices:** A matrix is a 2-D array of numbers, so each element is identified by two indices instead of just one. We usually give matrices upper-case variable names, such as $A$\n",
    "4. **Tensors:** A generalization of all of the above. OR: In some cases we will need an array with more than two axes. In the general case, an array of numbers arranged on a regular grid with a variable number of axes is known as a tensor. (Goodfellow et al. 32-33)\n"
   ]
  },
  {
   "cell_type": "markdown",
   "id": "a847134d-94f7-465b-b459-3ea2f68d2348",
   "metadata": {
    "slideshow": {
     "slide_type": "slide"
    }
   },
   "source": [
    "## 1. Scalars"
   ]
  },
  {
   "cell_type": "markdown",
   "id": "c86a365c-d197-4f99-b1ea-ad0f10f0f6f6",
   "metadata": {
    "slideshow": {
     "slide_type": "fragment"
    }
   },
   "source": [
    "Scalar is simply a fancy word for number. We often say that scalars only have *magnitude*. 5 meters, 10 kilos, 7 days, etc are all examples of scalars. Scalars are elements of different types of number. A typical scalar is a real number, denoted by $\\mathbb{R}$, which includes most numbers such as -5, 1, $\\frac{2}{3}$, and 10.15."
   ]
  },
  {
   "cell_type": "markdown",
   "id": "467994e4-0126-4be7-a534-60718ce97126",
   "metadata": {
    "slideshow": {
     "slide_type": "slide"
    }
   },
   "source": [
    "## 2. Vectors\n",
    "\n",
    "**NumPy:** ```np.array``` <br>\n",
    "**Torch:** ```torch.tensor``` <br>"
   ]
  },
  {
   "cell_type": "markdown",
   "id": "d19b3426-e88e-4fa3-be37-faa0eb0106b3",
   "metadata": {
    "slideshow": {
     "slide_type": "fragment"
    }
   },
   "source": [
    "Unlike scalars, vectors have magnitude *and* direction. Vectors consist of many numbers, usually from $\\mathbb{R}$."
   ]
  },
  {
   "cell_type": "markdown",
   "id": "cd9fc316-c205-4c46-99e6-36d1b6e6b624",
   "metadata": {
    "slideshow": {
     "slide_type": "slide"
    }
   },
   "source": [
    "The algebra of vectors can be visualized by interpreting the vectors as arrows.  This is easiest to see with an example in $\\mathbb{R}^2$ - the indexing here is to note that the vector has 2-dimensions.\n",
    "\n",
    "$$\n",
    "\\begin{equation}\n",
    "U_1 = \\left[ \\begin{array}{r} 1 \\\\ 3  \\end{array}\\right] \\hspace{1cm} \n",
    "U_2 = \\left[ \\begin{array}{r} 2 \\\\  -1   \\end{array}\\right]\n",
    "\\end{equation}\n",
    "$$\n",
    "\n",
    "An example of two vectors in $\\mathbb{R^3}$ would be:\n",
    "\n",
    "$$\n",
    "\\begin{equation}\n",
    "U_3 = \\left[ \\begin{array}{r} 1 \\\\ 3 \\\\ 7  \\end{array}\\right] \\hspace{1cm} \n",
    "U_4 = \\left[ \\begin{array}{r} 2 \\\\  -1  \\\\ -10  \\end{array}\\right]\n",
    "\\end{equation}\n",
    "$$\n"
   ]
  },
  {
   "cell_type": "markdown",
   "id": "95919150-d226-4e89-bf94-0fd67eafcc91",
   "metadata": {
    "slideshow": {
     "slide_type": "slide"
    }
   },
   "source": [
    "However, for now, let's stick to vectors in $\\mathbb{R^2}$, because they are the most easy to visualize. The vector $U_1$ can be visualized as an arrow that points in the direction defined by 1 unit to the right, and 3 units up."
   ]
  },
  {
   "cell_type": "code",
   "execution_count": 2,
   "id": "64c4ecf2-4ec8-44ce-a690-2817461ea1e9",
   "metadata": {
    "slideshow": {
     "slide_type": "slide"
    }
   },
   "outputs": [
    {
     "data": {
      "image/png": "[encoded data removed]",
      "text/plain": [
       "<Figure size 640x480 with 1 Axes>"
      ]
     },
     "metadata": {},
     "output_type": "display_data"
    }
   ],
   "source": [
    "fig, ax = plt.subplots()\n",
    "options = {\"width\":0.05,\"head_width\":0.2, \"head_length\":0.2, \"length_includes_head\":True}\n",
    "ax.arrow(0,0,1,3,fc='b',ec='b',**options)\n",
    "ax.text(1,3,'$U_1$')\n",
    "ax.set_xlim(0,5)\n",
    "ax.set_ylim(0,5)\n",
    "ax.set_aspect('equal')\n",
    "ax.grid(True,ls=':')"
   ]
  },
  {
   "cell_type": "markdown",
   "id": "c40ea592-2d89-41a9-9bc7-9592c04d7b01",
   "metadata": {
    "slideshow": {
     "slide_type": "slide"
    }
   },
   "source": [
    "What we've seen so far are *column vectors*. They stand like columns, instead of lying like rows. An example of two *row vectors* would be:"
   ]
  },
  {
   "cell_type": "markdown",
   "id": "9d1b8fef-3289-4762-9855-f17d6263f60e",
   "metadata": {
    "slideshow": {
     "slide_type": "fragment"
    }
   },
   "source": [
    "$$\n",
    "\\begin{equation}\n",
    "U_5 = \\begin{bmatrix} 5 & 8 \\end{bmatrix} \\hspace{1cm} \n",
    "U_6 = \\begin{bmatrix} 27 & 9 \\end{bmatrix}\n",
    "\\end{equation}\n",
    "$$"
   ]
  },
  {
   "cell_type": "markdown",
   "id": "dfaefc19-096b-4857-aa8f-e5bcd53b80d5",
   "metadata": {
    "slideshow": {
     "slide_type": "fragment"
    }
   },
   "source": [
    "However, we'll mostly be working with column vectors, so let's for now stick to them."
   ]
  },
  {
   "cell_type": "markdown",
   "id": "eb6e8a96-e6b9-42ad-a028-71429768828b",
   "metadata": {
    "slideshow": {
     "slide_type": "slide"
    }
   },
   "source": [
    "To write a column vector in numpy, you will use the ```np.array``` command with a set of outer brackets and each number in brackets."
   ]
  },
  {
   "cell_type": "code",
   "execution_count": 3,
   "id": "cf307768-4633-463f-a027-e9abeb7852d5",
   "metadata": {
    "slideshow": {
     "slide_type": "fragment"
    }
   },
   "outputs": [
    {
     "data": {
      "text/plain": [
       "array([[1],\n",
       "       [3]])"
      ]
     },
     "execution_count": 3,
     "metadata": {},
     "output_type": "execute_result"
    }
   ],
   "source": [
    "U_1 = np.array([[1],[3]])\n",
    "U_1"
   ]
  },
  {
   "cell_type": "markdown",
   "id": "97deca45-7186-4cca-8bc6-07c8c1ea49ed",
   "metadata": {
    "slideshow": {
     "slide_type": "fragment"
    }
   },
   "source": [
    "Why brackets around the numbers? Because that way we force numpy to recognize it's a column vector. "
   ]
  },
  {
   "cell_type": "markdown",
   "id": "0b727ecb-d3cb-46b5-b184-6b39aa517494",
   "metadata": {
    "slideshow": {
     "slide_type": "slide"
    }
   },
   "source": [
    "A very important command for keeping track of matrices and vectors in numpy, is ```shape```:"
   ]
  },
  {
   "cell_type": "code",
   "execution_count": 4,
   "id": "8641b00c-6436-40b2-8bf2-e114df15f14e",
   "metadata": {
    "slideshow": {
     "slide_type": "fragment"
    }
   },
   "outputs": [
    {
     "data": {
      "text/plain": [
       "(2, 1)"
      ]
     },
     "execution_count": 4,
     "metadata": {},
     "output_type": "execute_result"
    }
   ],
   "source": [
    "U_1.shape"
   ]
  },
  {
   "cell_type": "markdown",
   "id": "af2af55e-e6db-46be-9d7d-ed806ffe1d72",
   "metadata": {
    "slideshow": {
     "slide_type": "fragment"
    }
   },
   "source": [
    "The first number say that our vector has two rows, the second number says it has one column.\n",
    "\n",
    "**REMEMBER:** In linear algebra as well as in all Python libraries like ```pandas``` and ```numpy``` the number of rows is expressed before the number of columns."
   ]
  },
  {
   "cell_type": "markdown",
   "id": "2bfe8857-6a4b-4407-97a2-a00aa61b233f",
   "metadata": {
    "slideshow": {
     "slide_type": "slide"
    }
   },
   "source": [
    "If we wanted to make a row vector, we'd instead use double brackets."
   ]
  },
  {
   "cell_type": "code",
   "execution_count": 5,
   "id": "4474d38a-e4a5-4857-968b-1e33fe849686",
   "metadata": {
    "slideshow": {
     "slide_type": "fragment"
    }
   },
   "outputs": [],
   "source": [
    "U_5 = np.array([[5,8]])"
   ]
  },
  {
   "cell_type": "code",
   "execution_count": 6,
   "id": "c7276706-d191-4bf5-9103-0cd401483744",
   "metadata": {
    "slideshow": {
     "slide_type": "fragment"
    }
   },
   "outputs": [
    {
     "data": {
      "text/plain": [
       "(1, 2)"
      ]
     },
     "execution_count": 6,
     "metadata": {},
     "output_type": "execute_result"
    }
   ],
   "source": [
    "U_5.shape"
   ]
  },
  {
   "cell_type": "markdown",
   "id": "10e765d1-3d28-459e-90a3-33215472e53c",
   "metadata": {
    "slideshow": {
     "slide_type": "slide"
    }
   },
   "source": [
    "However, often it doesn't matter if a vector is a row or column vector. In that case we can use numpy simply like this:"
   ]
  },
  {
   "cell_type": "code",
   "execution_count": 7,
   "id": "d8399317-620e-451f-b00b-1c76fd5c7a8e",
   "metadata": {
    "slideshow": {
     "slide_type": "fragment"
    }
   },
   "outputs": [
    {
     "data": {
      "text/plain": [
       "(2,)"
      ]
     },
     "execution_count": 7,
     "metadata": {},
     "output_type": "execute_result"
    }
   ],
   "source": [
    "vector = np.array([1,2])\n",
    "vector.shape"
   ]
  },
  {
   "cell_type": "markdown",
   "id": "20790d98-f5fd-4577-abf7-a29619d102aa",
   "metadata": {
    "slideshow": {
     "slide_type": "fragment"
    }
   },
   "source": [
    "Now the vector has two rows, but no columns."
   ]
  },
  {
   "cell_type": "markdown",
   "id": "4bbd769c-3fa3-428a-a53e-b242313ea18f",
   "metadata": {
    "slideshow": {
     "slide_type": "slide"
    }
   },
   "source": [
    "It is important to understand that it is the *length and direction* of this arrow that defines $U_1$, *not* the actual position.  We could draw the arrow in any number of locations, and it would still represent $U_1$. All of these vectors on the following slide are the same."
   ]
  },
  {
   "cell_type": "code",
   "execution_count": 8,
   "id": "293a7f14-221c-4b20-86fb-fdb483753179",
   "metadata": {
    "slideshow": {
     "slide_type": "slide"
    }
   },
   "outputs": [
    {
     "data": {
      "image/png": "[encoded data removed]",
      "text/plain": [
       "<Figure size 640x480 with 1 Axes>"
      ]
     },
     "metadata": {},
     "output_type": "display_data"
    }
   ],
   "source": [
    "fig, ax = plt.subplots()\n",
    "ax.arrow(0,0,1,3,fc='b',ec='b',**options)\n",
    "ax.arrow(3,0,1,3,fc='b',ec='b',**options)\n",
    "ax.arrow(0,2,1,3,fc='b',ec='b',**options)\n",
    "ax.arrow(2,1,1,3,fc='b',ec='b',**options)\n",
    "ax.set_xlim(0,5)\n",
    "ax.set_ylim(0,5)\n",
    "ax.set_aspect('equal')\n",
    "ax.grid(True,ls=':')"
   ]
  },
  {
   "cell_type": "markdown",
   "id": "ae5f7028-bd4b-4ac7-8a7c-f9c549a9a872",
   "metadata": {
    "slideshow": {
     "slide_type": "slide"
    }
   },
   "source": [
    "We can also create vectors using ```torch```. It works pretty much just like ```numpy```:"
   ]
  },
  {
   "cell_type": "code",
   "execution_count": 9,
   "id": "d60320a5-a0c7-4877-8c0f-a44f80eff29b",
   "metadata": {
    "slideshow": {
     "slide_type": "fragment"
    }
   },
   "outputs": [
    {
     "name": "stdout",
     "output_type": "stream",
     "text": [
      "tensor([[1],\n",
      "        [3]])\n",
      "torch.Size([2, 1])\n"
     ]
    }
   ],
   "source": [
    "# forcing column vector notation\n",
    "print(torch.tensor([[1],[3]]))\n",
    "print(torch.tensor([[1],[3]]).shape)"
   ]
  },
  {
   "cell_type": "code",
   "execution_count": 10,
   "id": "250686f7-e14e-4e66-80e4-10b562a369c1",
   "metadata": {
    "slideshow": {
     "slide_type": "fragment"
    }
   },
   "outputs": [
    {
     "name": "stdout",
     "output_type": "stream",
     "text": [
      "tensor([[1, 3]])\n",
      "torch.Size([1, 2])\n"
     ]
    }
   ],
   "source": [
    "# row vector\n",
    "print(torch.tensor([[1,3]]))\n",
    "print(torch.tensor([[1,3]]).shape)"
   ]
  },
  {
   "cell_type": "code",
   "execution_count": 11,
   "id": "c219f154-6abb-42d2-8421-648c71f20801",
   "metadata": {
    "slideshow": {
     "slide_type": "fragment"
    }
   },
   "outputs": [
    {
     "name": "stdout",
     "output_type": "stream",
     "text": [
      "tensor([1, 3])\n",
      "torch.Size([2])\n"
     ]
    }
   ],
   "source": [
    "print(torch.tensor([1,3]))\n",
    "print(torch.tensor([1,3]).shape)"
   ]
  },
  {
   "cell_type": "code",
   "execution_count": 22,
   "id": "163bd3ad-854f-44af-a998-56f43fb01ae1",
   "metadata": {},
   "outputs": [
    {
     "name": "stdout",
     "output_type": "stream",
     "text": [
      "<class 'numpy.ndarray'>\n",
      "[[1]\n",
      " [3]]\n",
      "<class 'numpy.ndarray'>\n",
      "tensor([[1],\n",
      "        [3]])\n"
     ]
    }
   ],
   "source": [
    "np_ary = np.array([[1], [3]])\n",
    "t_tensor = torch.from_numpy(np_ary)\n",
    "print(type(np_ary))\n",
    "print(np_ary)\n",
    "print(type(np_ary))\n",
    "print(t_tensor)"
   ]
  },
  {
   "cell_type": "markdown",
   "id": "707bfca7-23b7-4764-ab6e-494ff981b52b",
   "metadata": {
    "slideshow": {
     "slide_type": "slide"
    }
   },
   "source": [
    "### 2.1. Scalar multiplication\n",
    "\n",
    "**Python:** ```*``` <br>\n",
    "**NumPy:** ```*```, ```np.multiply``` <br>\n",
    "**Tensor:** ```*```, ```torch.multiply```, ```torch.mul``` <br>\n",
    "**Input:** Scalar along with vector  <br>\n",
    "**Output:** Vector <br>"
   ]
  },
  {
   "cell_type": "markdown",
   "id": "e7c0e05c-b69d-41b4-aaf7-422eafbfa250",
   "metadata": {
    "slideshow": {
     "slide_type": "fragment"
    }
   },
   "source": [
    "Vectors can be multiplied by scalars. When we perform a scalar multiplication, such as $2U_1$, we interpret it as multiplying the *length of the arrow* by the scalar. We change the *magnitude* but the *direction* stays the same."
   ]
  },
  {
   "cell_type": "code",
   "execution_count": 23,
   "id": "49468a2b-b8e2-4e36-9764-49b202d5a0c3",
   "metadata": {
    "slideshow": {
     "slide_type": "slide"
    }
   },
   "outputs": [
    {
     "data": {
      "image/png": "[encoded data removed]",
      "text/plain": [
       "<Figure size 640x480 with 1 Axes>"
      ]
     },
     "metadata": {},
     "output_type": "display_data"
    }
   ],
   "source": [
    "fig, ax = plt.subplots()\n",
    "ax.arrow(0,0,1,3,fc='b',ec='b',**options)\n",
    "ax.arrow(2,0,2,6,fc='r',ec='r',**options)\n",
    "ax.text(1,2,'$U_1$')\n",
    "ax.text(4,5,'$2U_1$')\n",
    "ax.set_xlim(0,6)\n",
    "ax.set_ylim(0,6)\n",
    "ax.set_aspect('equal')\n",
    "ax.grid(True,ls=':')\n",
    "ax.set_xticks(np.arange(0,7,step = 1));\n",
    "ax.set_yticks(np.arange(0,7,step = 1));"
   ]
  },
  {
   "cell_type": "markdown",
   "id": "8826192b-849c-4de1-9d45-eaf88860f135",
   "metadata": {
    "slideshow": {
     "slide_type": "slide"
    }
   },
   "source": [
    "Doing scalar muliplication in ```numpy```is simple. We just use the ```*```symbol:"
   ]
  },
  {
   "cell_type": "code",
   "execution_count": 24,
   "id": "199e40f3-6315-422e-9b0f-438aa7b84d34",
   "metadata": {
    "slideshow": {
     "slide_type": "fragment"
    }
   },
   "outputs": [
    {
     "data": {
      "text/plain": [
       "array([[2],\n",
       "       [6]])"
      ]
     },
     "execution_count": 24,
     "metadata": {},
     "output_type": "execute_result"
    }
   ],
   "source": [
    "2*U_1"
   ]
  },
  {
   "cell_type": "markdown",
   "id": "1bda21f6-b8c3-4303-826e-0e65b150fb14",
   "metadata": {
    "slideshow": {
     "slide_type": "slide"
    }
   },
   "source": [
    "If the scalar is negative, we interpret the scalar multiplication as *reversing the direction* of the arrow, as well as changing the length."
   ]
  },
  {
   "cell_type": "code",
   "execution_count": 25,
   "id": "ebbc0645-4044-462d-8b5c-13a47efd73e0",
   "metadata": {
    "slideshow": {
     "slide_type": "fragment"
    }
   },
   "outputs": [
    {
     "data": {
      "text/plain": [
       "array([[-2],\n",
       "       [-6]])"
      ]
     },
     "execution_count": 25,
     "metadata": {},
     "output_type": "execute_result"
    }
   ],
   "source": [
    "-2*U_1"
   ]
  },
  {
   "cell_type": "code",
   "execution_count": 26,
   "id": "7f853529-feb7-46ad-908b-8a15d510b67b",
   "metadata": {
    "slideshow": {
     "slide_type": "slide"
    }
   },
   "outputs": [
    {
     "data": {
      "image/png": "[encoded data removed]",
      "text/plain": [
       "<Figure size 640x480 with 1 Axes>"
      ]
     },
     "metadata": {},
     "output_type": "display_data"
    }
   ],
   "source": [
    "fig, ax = plt.subplots()\n",
    "ax.arrow(0,0,1,3,fc='b',ec='b',**options)\n",
    "ax.arrow(4,6,-2,-6,fc='r',ec='r',**options)\n",
    "ax.text(1,2,'$U_1$')\n",
    "ax.text(3,1,'$-2U_1$')\n",
    "ax.set_xlim(0,6)\n",
    "ax.set_ylim(0,6)\n",
    "ax.set_aspect('equal')\n",
    "ax.grid(True,ls=':')\n",
    "ax.set_xticks(np.arange(0,7,step = 1));\n",
    "ax.set_yticks(np.arange(0,7,step = 1));"
   ]
  },
  {
   "cell_type": "markdown",
   "id": "a4762561-bc79-45f0-a6d2-d6afba2e6514",
   "metadata": {
    "slideshow": {
     "slide_type": "slide"
    }
   },
   "source": [
    "Finally, to multiply a scalar and a vector with ```numpy```we can also use ```np.multiply```:"
   ]
  },
  {
   "cell_type": "code",
   "execution_count": 27,
   "id": "dface61f-0a88-4f68-b6af-af717387bf90",
   "metadata": {
    "slideshow": {
     "slide_type": "fragment"
    }
   },
   "outputs": [
    {
     "data": {
      "text/plain": [
       "array([[-2],\n",
       "       [-6]])"
      ]
     },
     "execution_count": 27,
     "metadata": {},
     "output_type": "execute_result"
    }
   ],
   "source": [
    "np.multiply(-2, U_1)"
   ]
  },
  {
   "cell_type": "code",
   "execution_count": 28,
   "id": "b1ecbd72-2080-4fde-af3a-58714eb1dcfb",
   "metadata": {
    "slideshow": {
     "slide_type": "fragment"
    }
   },
   "outputs": [
    {
     "data": {
      "text/plain": [
       "tensor([-2, -6])"
      ]
     },
     "execution_count": 28,
     "metadata": {},
     "output_type": "execute_result"
    }
   ],
   "source": [
    "torch.multiply(-2, torch.tensor([1,3]))"
   ]
  },
  {
   "cell_type": "markdown",
   "id": "83c7883d-cb22-4957-9839-18cbe3184d1c",
   "metadata": {
    "slideshow": {
     "slide_type": "slide"
    }
   },
   "source": [
    "### 2.2. Vector Addition and Subtraction\n",
    "\n",
    "\n",
    "**Expression:** $U_1 + U_2$, $U_1 - U_2$ <br>\n",
    "**NumPy:** ```+``` and ```-``` or ```np.add``` and ```np.subtract``` <br>\n",
    "**Torch:** ```+``` and ```-``` or ```torch.add``` and ```torch.subtract``` <br>\n",
    "**Input:** Two or more vectors <br>\n",
    "**Output:** One vector <br>"
   ]
  },
  {
   "cell_type": "markdown",
   "id": "a957588f-9868-4cc5-9fdd-2eead6aaa7f6",
   "metadata": {
    "slideshow": {
     "slide_type": "slide"
    }
   },
   "source": [
    "We can add vectors to each other, but to do so they *must be the same dimension*. So we can add our column vectors from above:\n",
    "\n",
    "$$\n",
    "\\begin{equation}\n",
    "U_1 + U_2 = \n",
    "\\left[ \\begin{array}{r} 1 \\\\ 3  \\end{array}\\right] + \n",
    "\\left[ \\begin{array}{r} 2 \\\\  -1   \\end{array}\\right] =\n",
    "\\left[ \\begin{array}{r} 3 \\\\  2   \\end{array}\\right]\n",
    "\\end{equation}\n",
    "$$"
   ]
  },
  {
   "cell_type": "markdown",
   "id": "673eef04-b511-4fe0-a7fa-8c104b06dd0d",
   "metadata": {
    "slideshow": {
     "slide_type": "fragment"
    }
   },
   "source": [
    "And we can add our two row vectors from above:"
   ]
  },
  {
   "cell_type": "markdown",
   "id": "2a29cd89-4703-45a0-8e0d-441170c80909",
   "metadata": {
    "slideshow": {
     "slide_type": "fragment"
    }
   },
   "source": [
    "$$\n",
    "\\begin{equation}\n",
    "U_5 + U_6 = \\begin{bmatrix} 5 & 8 \\end{bmatrix} + \\begin{bmatrix} 27 & 9 \\end{bmatrix} = \\begin{bmatrix} 32 & 17 \\end{bmatrix}\n",
    "\\end{equation}\n",
    "$$"
   ]
  },
  {
   "cell_type": "markdown",
   "id": "7b479c62-77a4-4d2f-bfca-ef24d907590b",
   "metadata": {
    "slideshow": {
     "slide_type": "fragment"
    }
   },
   "source": [
    "But we *cannot* add $U_1$ or $U_2$ to $U_5$ or $U_6$."
   ]
  },
  {
   "cell_type": "markdown",
   "id": "f9c88b73-6888-4fd7-8835-744a1c1250cc",
   "metadata": {
    "slideshow": {
     "slide_type": "slide"
    }
   },
   "source": [
    "We can interpret the sum of two vectors as the result of aligning the two arrows tip to tail."
   ]
  },
  {
   "cell_type": "code",
   "execution_count": 30,
   "id": "39f2b5c6-ae7d-4d23-99f0-440419a34098",
   "metadata": {
    "slideshow": {
     "slide_type": "fragment"
    }
   },
   "outputs": [
    {
     "data": {
      "image/png": "[encoded data removed]",
      "text/plain": [
       "<Figure size 640x480 with 1 Axes>"
      ]
     },
     "metadata": {},
     "output_type": "display_data"
    }
   ],
   "source": [
    "fig, ax = plt.subplots()\n",
    "ax.arrow(0,0,1,3,fc='b',ec='b',**options)\n",
    "ax.arrow(1,3,2,-1,fc='b',ec='b',**options)\n",
    "ax.arrow(0,0,3,2,fc='r',ec='r',**options)\n",
    "ax.text(1,2,'$U_1$'); ax.text(2,3,'$U_2$'); ax.text(2,1,'$U_1+U_2$')\n",
    "ax.set_xlim(0,4); ax.set_ylim(0,4)\n",
    "ax.set_aspect('equal'); ax.grid(True,ls=':')\n",
    "ax.set_xticks(np.arange(0,5,step = 1)); ax.set_yticks(np.arange(0,5,step = 1));"
   ]
  },
  {
   "cell_type": "markdown",
   "id": "e296ed8f-1f10-4aae-96fb-3d57462b1e3a",
   "metadata": {
    "slideshow": {
     "slide_type": "fragment"
    }
   },
   "source": [
    "The sum of $U_1$ and $U_2$ would in this case be a new vector, which we've called $U_1 + U_2$ in the figure above."
   ]
  },
  {
   "cell_type": "markdown",
   "id": "df0eea03-c8b8-48f7-8636-7c49f98008b6",
   "metadata": {
    "slideshow": {
     "slide_type": "slide"
    }
   },
   "source": [
    "There are two ways of adding vectors in ```numpy```:"
   ]
  },
  {
   "cell_type": "code",
   "execution_count": 31,
   "id": "b154dec4-b023-4ac1-854e-16c216985402",
   "metadata": {
    "slideshow": {
     "slide_type": "fragment"
    }
   },
   "outputs": [],
   "source": [
    "U_2 = np.array([[2],[-1]])"
   ]
  },
  {
   "cell_type": "code",
   "execution_count": 32,
   "id": "ab32e022-af47-466d-88c1-afd52cdcce83",
   "metadata": {
    "slideshow": {
     "slide_type": "fragment"
    }
   },
   "outputs": [
    {
     "data": {
      "text/plain": [
       "array([[3],\n",
       "       [2]])"
      ]
     },
     "execution_count": 32,
     "metadata": {},
     "output_type": "execute_result"
    }
   ],
   "source": [
    "U_1 + U_2"
   ]
  },
  {
   "cell_type": "code",
   "execution_count": 33,
   "id": "8d98ff95-fafa-4dbb-958a-595649fa7b40",
   "metadata": {
    "slideshow": {
     "slide_type": "fragment"
    }
   },
   "outputs": [
    {
     "data": {
      "text/plain": [
       "array([[3],\n",
       "       [2]])"
      ]
     },
     "execution_count": 33,
     "metadata": {},
     "output_type": "execute_result"
    }
   ],
   "source": [
    "np.add(U_1, U_2)"
   ]
  },
  {
   "cell_type": "markdown",
   "id": "2421356a-8dd2-44dd-93f3-b719c043d1e4",
   "metadata": {
    "slideshow": {
     "slide_type": "slide"
    }
   },
   "source": [
    "When we do addition, we have to be careful, because neither base Python nor ```numpy``` handle adding vectors of different dimensions well. By consequence, we can end up creating very odd arrays. Adding $U_1$ to $U_5$ should not be possible, but with the ```+``` operator in Python:"
   ]
  },
  {
   "cell_type": "code",
   "execution_count": 34,
   "id": "2e909670-21c2-4062-b1a4-ec895448ed07",
   "metadata": {
    "slideshow": {
     "slide_type": "slide"
    }
   },
   "outputs": [
    {
     "data": {
      "text/plain": [
       "array([[ 6,  9],\n",
       "       [ 8, 11]])"
      ]
     },
     "execution_count": 34,
     "metadata": {},
     "output_type": "execute_result"
    }
   ],
   "source": [
    "U_1 + U_5"
   ]
  },
  {
   "cell_type": "markdown",
   "id": "2125632e-f3af-45a6-af4c-f9284f5578dd",
   "metadata": {
    "slideshow": {
     "slide_type": "fragment"
    }
   },
   "source": [
    "And with ```numpy.add```:"
   ]
  },
  {
   "cell_type": "code",
   "execution_count": 35,
   "id": "a4d1e91a-c60f-4aeb-9156-2e10735cb144",
   "metadata": {
    "slideshow": {
     "slide_type": "fragment"
    }
   },
   "outputs": [
    {
     "data": {
      "text/plain": [
       "array([[ 6,  9],\n",
       "       [ 8, 11]])"
      ]
     },
     "execution_count": 35,
     "metadata": {},
     "output_type": "execute_result"
    }
   ],
   "source": [
    "np.add(U_1, U_5)"
   ]
  },
  {
   "cell_type": "markdown",
   "id": "ba78c6d8",
   "metadata": {
    "slideshow": {
     "slide_type": "fragment"
    }
   },
   "source": [
    "And of course ```torch``` too:"
   ]
  },
  {
   "cell_type": "code",
   "execution_count": 44,
   "id": "71239f60-0c71-40b8-92f9-6ab51c7243bf",
   "metadata": {
    "slideshow": {
     "slide_type": "fragment"
    }
   },
   "outputs": [
    {
     "data": {
      "text/plain": [
       "tensor(2.2361)"
      ]
     },
     "execution_count": 44,
     "metadata": {},
     "output_type": "execute_result"
    }
   ],
   "source": [
    "torch.add(torch.tensor([1,2]), torch.tensor([1,2]))\n",
    "a = torch.tensor([1,2], dtype=torch.float)\n",
    "torch.norm(a)"
   ]
  },
  {
   "cell_type": "markdown",
   "id": "f455fed1-1072-491a-bbf7-c76a0fe4c8ca",
   "metadata": {
    "slideshow": {
     "slide_type": "slide"
    }
   },
   "source": [
    "### 2.3. Vector Norm"
   ]
  },
  {
   "cell_type": "markdown",
   "id": "80c6c777-fef7-48b1-9e3b-93fabcc21a1f",
   "metadata": {
    "slideshow": {
     "slide_type": "fragment"
    }
   },
   "source": [
    "**Also known as:** Length, magnitude, Euclidean norm, 2-norm <br>\n",
    "**Expression:** $\\vert\\vert U \\vert\\vert = \\sqrt{U \\cdot U}$ <br>\n",
    "**NumPy:** ```np.linalg.norm``` <br>\n",
    "**Input:** A vector <br>\n",
    "**Output:** A scalar"
   ]
  },
  {
   "cell_type": "markdown",
   "id": "36005772-991a-4882-b9e8-4711693678b0",
   "metadata": {
    "slideshow": {
     "slide_type": "fragment"
    }
   },
   "source": [
    "One interesting thing we might want to know about vectors, is their length. How would be do this? The intuition can be found in Pythagora's theorem. If we imagine the triangle below, how would we calculate the length of the red side \"c\"? Well, we can use Pythagora's theorem."
   ]
  },
  {
   "cell_type": "code",
   "execution_count": 45,
   "id": "9c0d3725-855f-4c5d-8660-162a972a1f08",
   "metadata": {
    "slideshow": {
     "slide_type": "slide"
    }
   },
   "outputs": [
    {
     "data": {
      "image/png": "[encoded data removed]",
      "text/plain": [
       "<Figure size 640x480 with 1 Axes>"
      ]
     },
     "metadata": {},
     "output_type": "display_data"
    }
   ],
   "source": [
    "fig, ax = plt.subplots()\n",
    "ax.arrow(0,0,1,3,fc='r',ec='r',**options)\n",
    "ax.arrow(1,0,0,3,fc='b',ec='b',**options)\n",
    "ax.arrow(0,0,1,0,fc='b',ec='b',**options)\n",
    "ax.text(0.25,1.5,'$c$')\n",
    "ax.text(1.1,1.5,'$a$')\n",
    "ax.text(0.5,0.1,'$b$')\n",
    "ax.set_xlim(0,4)\n",
    "ax.set_ylim(0,4)\n",
    "ax.set_aspect('equal')\n",
    "ax.grid(True,ls=':')\n",
    "ax.set_xticks(np.arange(0,5,step = 1));\n",
    "ax.set_yticks(np.arange(0,5,step = 1));"
   ]
  },
  {
   "cell_type": "markdown",
   "id": "4f1da501-f286-41ae-92c5-cdda4a418059",
   "metadata": {
    "slideshow": {
     "slide_type": "slide"
    }
   },
   "source": [
    "According to the theorem, the squaring and adding the length of the sides $a$ and $b$ will be equal to the square of $c$:"
   ]
  },
  {
   "cell_type": "markdown",
   "id": "5f742abe-ddb1-4a7e-8718-5d285e20d8f7",
   "metadata": {
    "slideshow": {
     "slide_type": "fragment"
    }
   },
   "source": [
    "$$\n",
    "\\begin{equation}\n",
    "a^2 + b^2 = c^2\n",
    "\\end{equation}\n",
    "$$"
   ]
  },
  {
   "cell_type": "markdown",
   "id": "891c7699-4711-4d88-8364-649de7181bc0",
   "metadata": {
    "slideshow": {
     "slide_type": "fragment"
    }
   },
   "source": [
    "Now, if we take the square root of both sides, we get the length of $c$:\n",
    "    \n",
    "$$\n",
    "\\begin{equation}\n",
    "c = \\sqrt{a^2 + b^2}\n",
    "\\end{equation}\n",
    "$$"
   ]
  },
  {
   "cell_type": "markdown",
   "id": "fe443ed7-0f8b-481c-b1aa-8f5a174d2275",
   "metadata": {
    "slideshow": {
     "slide_type": "slide"
    }
   },
   "source": [
    "We can calculate the length of our vectors similarly. Imagine that our vector $U$ has it's coordinates drawn through lines that run first to it's first coordinate $u_1$ and then to the second $u_2$. Now the length of $\\lVert U \\rVert$ is calculated easily with Pythagora's theorem:"
   ]
  },
  {
   "cell_type": "code",
   "execution_count": 46,
   "id": "12cafdff-fdb0-4146-840b-5222a0b0f1c0",
   "metadata": {
    "slideshow": {
     "slide_type": "slide"
    }
   },
   "outputs": [
    {
     "data": {
      "image/png": "[encoded data removed]",
      "text/plain": [
       "<Figure size 640x480 with 1 Axes>"
      ]
     },
     "metadata": {},
     "output_type": "display_data"
    }
   ],
   "source": [
    "fig, ax = plt.subplots()\n",
    "ax.arrow(0,0,1,3,fc='r',ec='r',**options)\n",
    "ax.arrow(1,0,0,3,fc='b',ec='b',**options)\n",
    "ax.arrow(0,0,1,0,fc='b',ec='b',**options)\n",
    "ax.text(0.25,1.5,'$U$')\n",
    "ax.text(1.1,1.5,'$u_1$')\n",
    "ax.text(0.5,0.1,'$u_2$')\n",
    "ax.set_xlim(0,4)\n",
    "ax.set_ylim(0,4)\n",
    "ax.set_aspect('equal')\n",
    "ax.grid(True,ls=':')\n",
    "ax.set_xticks(np.arange(0,5,step = 1));\n",
    "ax.set_yticks(np.arange(0,5,step = 1));"
   ]
  },
  {
   "cell_type": "markdown",
   "id": "1b4f8072-a974-4368-bd88-01808f7af997",
   "metadata": {
    "slideshow": {
     "slide_type": "fragment"
    }
   },
   "source": [
    "$$\n",
    "\\begin{equation}\n",
    "\\vert\\vert U \\vert\\vert = \\sqrt{u_1^2 + u_2^2}\n",
    "\\end{equation}\n",
    "$$"
   ]
  },
  {
   "cell_type": "markdown",
   "id": "d04718bb-5cb6-4519-a727-9db75ceecb21",
   "metadata": {
    "slideshow": {
     "slide_type": "slide"
    }
   },
   "source": [
    "Turns out we can extend this logic to several dimensions. Let's now instead define $U$ as having $n$ elements, like so:\n",
    "\n",
    "$$\n",
    "\\begin{equation}\n",
    "U = \\left[ \\begin{array}{r} u_1 \\\\ u_2 \\\\ \\vdots \\\\ u_n  \\end{array}\\right]\n",
    "\\end{equation}\n",
    "$$"
   ]
  },
  {
   "cell_type": "markdown",
   "id": "539e03c1-40c7-45ed-a225-8aec8eee2e3f",
   "metadata": {
    "slideshow": {
     "slide_type": "fragment"
    },
    "tags": []
   },
   "source": [
    "Then the length or **norm** of $U$ is found by squaring and adding each of those coordinates and then taking the square root of the resulting number:\n",
    "\n",
    "$$\n",
    "\\begin{equation}\n",
    "\\vert\\vert U \\vert\\vert = \\sqrt{u_1^2 + u_2^2 ... u_n^2}\n",
    "\\end{equation}\n",
    "$$"
   ]
  },
  {
   "cell_type": "markdown",
   "id": "07de8533-b3d0-43dd-a4f2-be82253ce8b4",
   "metadata": {
    "slideshow": {
     "slide_type": "slide"
    }
   },
   "source": [
    "If we wanted to calculate the vector norm in Python without numpy or torch, we could do the following:"
   ]
  },
  {
   "cell_type": "code",
   "execution_count": 47,
   "id": "fb27ec53-fd56-4209-9540-7b3ca91031cd",
   "metadata": {
    "slideshow": {
     "slide_type": "fragment"
    }
   },
   "outputs": [
    {
     "data": {
      "text/plain": [
       "3.1622776601683795"
      ]
     },
     "execution_count": 47,
     "metadata": {},
     "output_type": "execute_result"
    }
   ],
   "source": [
    "math.sqrt(sum([u * u for u in np.array([1,3])]))"
   ]
  },
  {
   "cell_type": "markdown",
   "id": "f69d45fa-8561-4d38-a652-dc3bd341957e",
   "metadata": {
    "slideshow": {
     "slide_type": "fragment"
    }
   },
   "source": [
    "However, it's much easier to use the built-in commands in numpy:"
   ]
  },
  {
   "cell_type": "code",
   "execution_count": 48,
   "id": "5dcc1b7b-61a0-4342-ab76-1ae6afbb1d36",
   "metadata": {
    "slideshow": {
     "slide_type": "fragment"
    }
   },
   "outputs": [
    {
     "data": {
      "text/plain": [
       "3.1622776601683795"
      ]
     },
     "execution_count": 48,
     "metadata": {},
     "output_type": "execute_result"
    }
   ],
   "source": [
    "np.linalg.norm(U_1)"
   ]
  },
  {
   "cell_type": "markdown",
   "id": "981aece1-9728-447f-9d9d-a16e9dc0f2fa",
   "metadata": {
    "slideshow": {
     "slide_type": "fragment"
    }
   },
   "source": [
    "And torch:"
   ]
  },
  {
   "cell_type": "code",
   "execution_count": 49,
   "id": "8096c712-e8cf-46cc-bd83-a0b6bd7ac52f",
   "metadata": {
    "slideshow": {
     "slide_type": "fragment"
    }
   },
   "outputs": [
    {
     "data": {
      "text/plain": [
       "tensor(3.1623)"
      ]
     },
     "execution_count": 49,
     "metadata": {},
     "output_type": "execute_result"
    }
   ],
   "source": [
    "torch.tensor([[1.0,3.0]]).norm()"
   ]
  },
  {
   "cell_type": "code",
   "execution_count": 50,
   "id": "f075a398-c195-4457-bbcc-26faf954d620",
   "metadata": {
    "slideshow": {
     "slide_type": "fragment"
    }
   },
   "outputs": [
    {
     "data": {
      "text/plain": [
       "tensor(3.1623)"
      ]
     },
     "execution_count": 50,
     "metadata": {},
     "output_type": "execute_result"
    }
   ],
   "source": [
    "torch.linalg.norm(torch.tensor([[1.0,3.0]]))"
   ]
  },
  {
   "cell_type": "markdown",
   "id": "e00e079a-c5d8-4eed-9dfb-60f2480825ac",
   "metadata": {
    "slideshow": {
     "slide_type": "slide"
    },
    "tags": []
   },
   "source": [
    "### 2.4. The Dot Product\n",
    "\n",
    "**Also known as:** Inner product, scalar product, projection product <br>\n",
    "**Expression**: $U \\cdot V$ <br>\n",
    "**Python:** ```@``` <br>\n",
    "**NumPy:** ```np.dot``` <br>\n",
    "**NumPy:** ```torch.dot``` <br>\n",
    "**Input:** Two vectors <br>\n",
    "**Output:** Scalar <br>"
   ]
  },
  {
   "cell_type": "markdown",
   "id": "c7f3a15e-aa5a-4ce7-8ab7-7cab78ec9f27",
   "metadata": {
    "slideshow": {
     "slide_type": "fragment"
    }
   },
   "source": [
    "The idea of the vector norm can be generalized to apply to any two vectors. Let's define $U$ and $V$ as vectors in $\\mathbb{R}^n$. This means that they consist of real numbers and are of $n$ length:"
   ]
  },
  {
   "cell_type": "markdown",
   "id": "0d1524a4-5819-42e5-95c6-f04ba124ff8a",
   "metadata": {
    "slideshow": {
     "slide_type": "slide"
    }
   },
   "source": [
    "$$\n",
    "\\begin{equation}\n",
    "U = \\left[ \\begin{array}{r} u_1 \\\\ u_2 \\\\ \\vdots \\\\ u_n  \\end{array}\\right] \\hspace{1cm} \n",
    "V = \\left[ \\begin{array}{r} v_1 \\\\ v_2 \\\\ \\vdots \\\\ v_n \\end{array}\\right]\n",
    "\\end{equation}\n",
    "$$"
   ]
  },
  {
   "cell_type": "markdown",
   "id": "fb9bf7fd-ab87-4179-aa7e-8e846e0dad4e",
   "metadata": {
    "slideshow": {
     "slide_type": "fragment"
    }
   },
   "source": [
    "Now, if we perform"
   ]
  },
  {
   "cell_type": "markdown",
   "id": "21ee9590-cf5c-4584-b7b0-57dd736019b3",
   "metadata": {
    "slideshow": {
     "slide_type": "fragment"
    }
   },
   "source": [
    "$$\n",
    "\\begin{equation}\n",
    "U \\cdot V = u_1v_1 + u_2v_2 + ... + u_nv_n\n",
    "\\end{equation}\n",
    "$$"
   ]
  },
  {
   "cell_type": "markdown",
   "id": "1e441142-bfc4-45b8-9a5f-a61028e39059",
   "metadata": {
    "slideshow": {
     "slide_type": "slide"
    }
   },
   "source": [
    "The **dot product**, also called **scalar** or **inner product**, is a measure of how closely two vectors align, in terms of the directions they point. To get a sense of this, let's look through a number of illustrated examples."
   ]
  },
  {
   "cell_type": "markdown",
   "id": "681c4c21-efe4-460b-ba21-61376c59789e",
   "metadata": {
    "slideshow": {
     "slide_type": "fragment"
    }
   },
   "source": [
    "First, let's look at the dot product of two vectors that are overlapping but of different length."
   ]
  },
  {
   "cell_type": "code",
   "execution_count": 52,
   "id": "ebf64ff9-ff94-4f29-8f7f-d3d6f7917513",
   "metadata": {
    "slideshow": {
     "slide_type": "slide"
    }
   },
   "outputs": [
    {
     "data": {
      "image/png": "[encoded data removed]",
      "text/plain": [
       "<Figure size 640x480 with 1 Axes>"
      ]
     },
     "metadata": {},
     "output_type": "display_data"
    }
   ],
   "source": [
    "fig, ax = plt.subplots()\n",
    "\n",
    "ax.arrow(0,0,3,0,fc='b',ec='b',**options)\n",
    "ax.arrow(0,0,4,0,fc='r',ec='r',**options)\n",
    "\n",
    "ax.text(3,.2,'$U_1$')\n",
    "ax.text(4,.2,'$U_2$')\n",
    "\n",
    "ax.set_xlim(0,5)\n",
    "ax.set_ylim(-1,4)\n",
    "ax.set_aspect('equal')\n",
    "ax.grid(True,ls=':')\n",
    "\n",
    "ax.set_xticks(np.arange(0,5,step = 1));\n",
    "ax.set_yticks(np.arange(0,5,step = 1));"
   ]
  },
  {
   "cell_type": "markdown",
   "id": "ed3d65eb-e77b-4b0d-ac81-dc3686f8ab08",
   "metadata": {
    "slideshow": {
     "slide_type": "slide"
    }
   },
   "source": [
    "To take the dot product with ```numpy``` we write ```np.dot```. This will work whether the input is lists or ```np``` arrays:"
   ]
  },
  {
   "cell_type": "code",
   "execution_count": 53,
   "id": "2da78e5c-3de4-41d2-ab99-95e815b17658",
   "metadata": {
    "slideshow": {
     "slide_type": "fragment"
    }
   },
   "outputs": [
    {
     "data": {
      "text/plain": [
       "12"
      ]
     },
     "execution_count": 53,
     "metadata": {},
     "output_type": "execute_result"
    }
   ],
   "source": [
    "np.dot([3,0],[4,0])"
   ]
  },
  {
   "cell_type": "markdown",
   "id": "c80e6461-efc7-43b4-bce2-6ee4aae548a5",
   "metadata": {
    "slideshow": {
     "slide_type": "fragment"
    }
   },
   "source": [
    "Since Python 3.5, we can also use the ```@``` sign. However, for this to work the multiplicand and the multiplier need to be defined as ```np``` arrays:"
   ]
  },
  {
   "cell_type": "code",
   "execution_count": 54,
   "id": "60d3e797-0d65-4dfb-ac73-a3fe926d653d",
   "metadata": {
    "slideshow": {
     "slide_type": "fragment"
    }
   },
   "outputs": [
    {
     "data": {
      "text/plain": [
       "12"
      ]
     },
     "execution_count": 54,
     "metadata": {},
     "output_type": "execute_result"
    }
   ],
   "source": [
    "np.array([3,0]) @ np.array([4,0])"
   ]
  },
  {
   "cell_type": "markdown",
   "id": "84d64615-71de-4908-a887-78da8f49863d",
   "metadata": {
    "slideshow": {
     "slide_type": "fragment"
    }
   },
   "source": [
    "We'll use ```np.dot``` in this presentation, but in general the new ```@```notation is really powerful and much more legible."
   ]
  },
  {
   "cell_type": "markdown",
   "id": "47816c53-010b-4abf-96c2-3f8c3e6b8622",
   "metadata": {
    "slideshow": {
     "slide_type": "slide"
    }
   },
   "source": [
    "To get back to the example, what is the dot product if we use overlapping vectors of similar length? Well, a positive number, but slightly lower:"
   ]
  },
  {
   "cell_type": "code",
   "execution_count": 55,
   "id": "f3f17fee-9ea5-4067-bf7d-b12c9bdb111d",
   "metadata": {
    "slideshow": {
     "slide_type": "fragment"
    }
   },
   "outputs": [
    {
     "data": {
      "text/plain": [
       "9"
      ]
     },
     "execution_count": 55,
     "metadata": {},
     "output_type": "execute_result"
    }
   ],
   "source": [
    "np.dot([3,0],[3,0])"
   ]
  },
  {
   "cell_type": "markdown",
   "id": "73176798-504c-4be3-a5d8-7e27adfad854",
   "metadata": {
    "slideshow": {
     "slide_type": "fragment"
    }
   },
   "source": [
    "Now, what happens if we change the angle?"
   ]
  },
  {
   "cell_type": "code",
   "execution_count": 56,
   "id": "63494d90-880c-4957-8f03-d76a7891b7d3",
   "metadata": {
    "slideshow": {
     "slide_type": "slide"
    }
   },
   "outputs": [
    {
     "data": {
      "image/png": "[encoded data removed]",
      "text/plain": [
       "<Figure size 640x480 with 1 Axes>"
      ]
     },
     "metadata": {},
     "output_type": "display_data"
    }
   ],
   "source": [
    "fig, ax = plt.subplots()\n",
    "ax.arrow(0,0,3,0,fc='b',ec='b',**options)\n",
    "ax.arrow(0,0,2,2,fc='r',ec='r',**options)\n",
    "ax.text(3,.2,'$U_1$')\n",
    "ax.text(2,2,'$U_2$')\n",
    "ax.set_xlim(-1,4)\n",
    "ax.set_ylim(-1,4)\n",
    "ax.set_aspect('equal')\n",
    "ax.grid(True,ls=':')\n",
    "ax.set_xticks(np.arange(0,5,step = 1));\n",
    "ax.set_yticks(np.arange(0,5,step = 1));"
   ]
  },
  {
   "cell_type": "code",
   "execution_count": 57,
   "id": "0ecf9886-6c55-4fb6-bc90-9aca3a082f50",
   "metadata": {
    "slideshow": {
     "slide_type": "slide"
    }
   },
   "outputs": [
    {
     "data": {
      "text/plain": [
       "6"
      ]
     },
     "execution_count": 57,
     "metadata": {},
     "output_type": "execute_result"
    }
   ],
   "source": [
    "np.dot([3,0],[2,2])"
   ]
  },
  {
   "cell_type": "markdown",
   "id": "8b5935c2-c79e-429d-bd86-971d946ef7e3",
   "metadata": {
    "slideshow": {
     "slide_type": "fragment"
    }
   },
   "source": [
    "The number is still positive! But what if we make the angle 90 degrees?"
   ]
  },
  {
   "cell_type": "code",
   "execution_count": 58,
   "id": "557710e9-160c-41d6-ba54-3deb92f8e255",
   "metadata": {
    "slideshow": {
     "slide_type": "slide"
    }
   },
   "outputs": [
    {
     "data": {
      "image/png": "[encoded data removed]",
      "text/plain": [
       "<Figure size 640x480 with 1 Axes>"
      ]
     },
     "metadata": {},
     "output_type": "display_data"
    }
   ],
   "source": [
    "fig, ax = plt.subplots()\n",
    "ax.arrow(0,0,3,0,fc='b',ec='b',**options)\n",
    "ax.arrow(0,0,0,3,fc='r',ec='r',**options)\n",
    "ax.text(3,.2,'$U_1$'); ax.text(.2,3,'$U_2$')\n",
    "ax.set_xlim(-1,4); ax.set_ylim(-1,4)\n",
    "ax.set_aspect('equal')\n",
    "ax.grid(True,ls=':')\n",
    "ax.set_xticks(np.arange(0,5,step = 1));\n",
    "ax.set_yticks(np.arange(0,5,step = 1));"
   ]
  },
  {
   "cell_type": "code",
   "execution_count": 59,
   "id": "e4219743-d1e1-4b01-bb7e-e31ada7a6819",
   "metadata": {
    "slideshow": {
     "slide_type": "slide"
    }
   },
   "outputs": [
    {
     "data": {
      "text/plain": [
       "0"
      ]
     },
     "execution_count": 59,
     "metadata": {},
     "output_type": "execute_result"
    }
   ],
   "source": [
    "np.dot([3,0],[0,3])"
   ]
  },
  {
   "cell_type": "markdown",
   "id": "9673b7ef-9770-4b99-b1a9-6343717eb9cd",
   "metadata": {
    "slideshow": {
     "slide_type": "fragment"
    }
   },
   "source": [
    "Now the dot product is zero! This will be true for any vector. No matter their length, two vectors at a ninety degree angle will *always* have a dot product of zero. So if $\\theta$ is the angle between vectors $U$ and $V$ and\n",
    "\n",
    "$$\n",
    "U \\cdot V = 0\n",
    "$$"
   ]
  },
  {
   "cell_type": "markdown",
   "id": "2cd3df0a-f31c-47c0-b9c5-f86bd5670c58",
   "metadata": {
    "slideshow": {
     "slide_type": "fragment"
    }
   },
   "source": [
    "then:\n",
    "\n",
    "$$\n",
    "\\theta = 90\n",
    "$$"
   ]
  },
  {
   "cell_type": "markdown",
   "id": "c8f73ff6-e896-4953-afae-f58c91e23dd3",
   "metadata": {
    "slideshow": {
     "slide_type": "fragment"
    }
   },
   "source": [
    "One way to interpret this is that the vectors have nothing in common. They are orthogonal to each other."
   ]
  },
  {
   "cell_type": "markdown",
   "id": "25d956fa-0b90-4762-b38b-cf973b796db6",
   "metadata": {
    "slideshow": {
     "slide_type": "slide"
    }
   },
   "source": [
    "What if the vectors point in opposite directions?"
   ]
  },
  {
   "cell_type": "code",
   "execution_count": 60,
   "id": "50def0ab-24cc-499c-8c0c-95fe943cf317",
   "metadata": {
    "slideshow": {
     "slide_type": "fragment"
    }
   },
   "outputs": [
    {
     "data": {
      "image/png": "[encoded data removed]",
      "text/plain": [
       "<Figure size 640x480 with 1 Axes>"
      ]
     },
     "metadata": {},
     "output_type": "display_data"
    }
   ],
   "source": [
    "fig, ax = plt.subplots()\n",
    "ax.arrow(0,0,3,0,fc='b',ec='b',**options); ax.arrow(0,0,-3,0,fc='r',ec='r',**options)\n",
    "ax.text(3,.2,'$U_1$'); ax.text(-3,.2,'$U_2$')\n",
    "ax.set_xlim(-4,4); ax.set_ylim(-1,4)\n",
    "ax.set_aspect('equal')\n",
    "ax.grid(True,ls=':')\n",
    "ax.set_xticks(np.arange(-4,5,step = 1));\n",
    "ax.set_yticks(np.arange(0,5,step = 1));"
   ]
  },
  {
   "cell_type": "code",
   "execution_count": 61,
   "id": "0bdcd641-fe8e-457b-a34f-cbaf926ee6b1",
   "metadata": {
    "slideshow": {
     "slide_type": "slide"
    }
   },
   "outputs": [
    {
     "data": {
      "text/plain": [
       "-9"
      ]
     },
     "execution_count": 61,
     "metadata": {},
     "output_type": "execute_result"
    }
   ],
   "source": [
    "np.dot([3,0],[-3,0])"
   ]
  },
  {
   "cell_type": "markdown",
   "id": "8d582fed-1cf9-46f5-95df-8a834e1d35af",
   "metadata": {
    "slideshow": {
     "slide_type": "fragment"
    }
   },
   "source": [
    "The dot product will be negative! This will be true for all angles that area over 90:"
   ]
  },
  {
   "cell_type": "code",
   "execution_count": 62,
   "id": "028824dd-0609-4131-b273-5ea98d08526d",
   "metadata": {
    "slideshow": {
     "slide_type": "slide"
    }
   },
   "outputs": [
    {
     "data": {
      "image/png": "[encoded data removed]",
      "text/plain": [
       "<Figure size 640x480 with 1 Axes>"
      ]
     },
     "metadata": {},
     "output_type": "display_data"
    }
   ],
   "source": [
    "fig, ax = plt.subplots()\n",
    "ax.arrow(0,0,3,0,fc='b',ec='b',**options); ax.arrow(0,0,-2,-2,fc='r',ec='r',**options)\n",
    "ax.text(3,.2,'$U_1$'); ax.text(-2,-2.4,'$U_2$')\n",
    "ax.set_xlim(-4,2); ax.set_ylim(-3,4)\n",
    "ax.set_aspect('equal')\n",
    "ax.grid(True,ls=':')\n",
    "ax.set_xticks(np.arange(-3,5,step = 1));\n",
    "ax.set_yticks(np.arange(-3,5,step = 1));"
   ]
  },
  {
   "cell_type": "code",
   "execution_count": 63,
   "id": "dc8df465-7ce7-4dd4-802a-f98c0e4db3f7",
   "metadata": {
    "slideshow": {
     "slide_type": "fragment"
    }
   },
   "outputs": [
    {
     "data": {
      "text/plain": [
       "-6"
      ]
     },
     "execution_count": 63,
     "metadata": {},
     "output_type": "execute_result"
    }
   ],
   "source": [
    "np.dot([3, 0],[-2, -2])"
   ]
  },
  {
   "cell_type": "code",
   "execution_count": 64,
   "id": "506813f5-4720-4507-8258-6ce25b8a00c1",
   "metadata": {
    "slideshow": {
     "slide_type": "slide"
    }
   },
   "outputs": [
    {
     "data": {
      "image/png": "[encoded data removed]",
      "text/plain": [
       "<Figure size 640x480 with 1 Axes>"
      ]
     },
     "metadata": {},
     "output_type": "display_data"
    }
   ],
   "source": [
    "fig, ax = plt.subplots()\n",
    "ax.arrow(0,0,3,0,fc='b',ec='b',**options); ax.arrow(0,0,0,-3,fc='r',ec='r',**options)\n",
    "ax.text(3,.2,'$U_1$'); ax.text(-.7,-2.8,'$U_2$')\n",
    "ax.set_xlim(-4,2); ax.set_ylim(-3,4)\n",
    "ax.set_aspect('equal')\n",
    "ax.grid(True,ls=':')\n",
    "ax.set_xticks(np.arange(-3,5,step = 1));\n",
    "ax.set_yticks(np.arange(-3,5,step = 1));"
   ]
  },
  {
   "cell_type": "code",
   "execution_count": 65,
   "id": "daed9405-78ca-43d4-b223-198d003cc6bb",
   "metadata": {
    "slideshow": {
     "slide_type": "fragment"
    }
   },
   "outputs": [
    {
     "data": {
      "text/plain": [
       "0"
      ]
     },
     "execution_count": 65,
     "metadata": {},
     "output_type": "execute_result"
    }
   ],
   "source": [
    "np.dot([3, 0],[0, -3])"
   ]
  },
  {
   "cell_type": "markdown",
   "id": "d6e8dafc-42a8-4a2f-a746-34ff9acfb154",
   "metadata": {
    "slideshow": {
     "slide_type": "slide"
    }
   },
   "source": [
    "But once we get over 270, the numbers become positive again."
   ]
  },
  {
   "cell_type": "code",
   "execution_count": 66,
   "id": "6c08fd95-27ef-4c53-a18f-9ec46e180ef5",
   "metadata": {
    "slideshow": {
     "slide_type": "fragment"
    }
   },
   "outputs": [
    {
     "data": {
      "image/png": "[encoded data removed]",
      "text/plain": [
       "<Figure size 640x480 with 1 Axes>"
      ]
     },
     "metadata": {},
     "output_type": "display_data"
    }
   ],
   "source": [
    "fig, ax = plt.subplots()\n",
    "ax.arrow(0,0,3,0,fc='b',ec='b',**options); ax.arrow(0,0,3,-2,fc='r',ec='r',**options)\n",
    "ax.text(3,.2,'$U_1$'); ax.text(3.2,-2,'$U_2$')\n",
    "ax.set_xlim(-4,2); ax.set_ylim(-3,4)\n",
    "ax.set_aspect('equal')\n",
    "ax.grid(True,ls=':')\n",
    "ax.set_xticks(np.arange(-3,5,step = 1)); ax.set_yticks(np.arange(-3,5,step = 1));"
   ]
  },
  {
   "cell_type": "code",
   "execution_count": 67,
   "id": "2ea33550-7895-4c64-b445-28312ccae83f",
   "metadata": {
    "slideshow": {
     "slide_type": "fragment"
    }
   },
   "outputs": [
    {
     "data": {
      "text/plain": [
       "9"
      ]
     },
     "execution_count": 67,
     "metadata": {},
     "output_type": "execute_result"
    }
   ],
   "source": [
    "np.dot([3, 0],[3, -2])"
   ]
  },
  {
   "cell_type": "markdown",
   "id": "f0f40b7a-d684-4350-bde6-9afd02ee748b",
   "metadata": {
    "slideshow": {
     "slide_type": "slide"
    }
   },
   "source": [
    "This \"cycle\" follows the cycle of the cosine:"
   ]
  },
  {
   "cell_type": "markdown",
   "id": "236038e8-0377-43ed-9a26-9b7d7c325b72",
   "metadata": {
    "slideshow": {
     "slide_type": "fragment"
    }
   },
   "source": [
    "| Degrees $(\\theta)$ | Radians $(\\theta)$ | Cos $(\\theta)$ |\n",
    "|--------------------|--------------------|----------------|\n",
    "|    $0$             |   $0$              |  $1$           |\n",
    "|    $90$            |  $\\frac{\\pi}{2}$   |  $0$           |\n",
    "|    $180$           |  $\\pi$             |  $-1$          |\n",
    "|    $270$           |  $\\frac{3\\pi}{2}$  |   $0$          |\n",
    "|    $360$           |  $2\\pi$            |   $1$          |"
   ]
  },
  {
   "cell_type": "markdown",
   "id": "3f74dd2f-0fae-427b-a8c7-be3dd1c51bbb",
   "metadata": {
    "slideshow": {
     "slide_type": "fragment"
    }
   },
   "source": [
    "However, while the cycle tells us when the dot product it zero, positive, or negative, we cannot say anything else of the angle. Why? Because the magnitudes of the two vectors will make the numbers fluctuate drastically. To get a better sense of the exact angle, we need to account for the magnitude of the vectors somehow."
   ]
  },
  {
   "cell_type": "markdown",
   "id": "8493e8d6-bf75-4cca-8f13-5ef6a1455fe3",
   "metadata": {
    "slideshow": {
     "slide_type": "slide"
    }
   },
   "source": [
    "But first, yes of course we can also do all of this in ```Torch```:"
   ]
  },
  {
   "cell_type": "code",
   "execution_count": 68,
   "id": "4964429e-b9bb-4369-930b-b7c47cc88307",
   "metadata": {
    "slideshow": {
     "slide_type": "fragment"
    }
   },
   "outputs": [
    {
     "data": {
      "text/plain": [
       "tensor(9)"
      ]
     },
     "execution_count": 68,
     "metadata": {},
     "output_type": "execute_result"
    }
   ],
   "source": [
    "torch.dot(torch.tensor([3, 0]),\n",
    "          torch.tensor([3, -2]))"
   ]
  },
  {
   "cell_type": "markdown",
   "id": "9edefb92-091c-4dcd-a9f5-d7c0832191eb",
   "metadata": {
    "slideshow": {
     "slide_type": "slide"
    }
   },
   "source": [
    "### 2.5. Cosine similarity\n",
    "\n",
    "**Also known as:** Inner product, scalar product, projection product <br>\n",
    "**Expression**: $\\frac{U \\cdot V}{\\lVert U \\rVert \\lVert V \\rVert}$ <br>\n",
    "**NumPy:** ```np.dot``` <br>\n",
    "**NumPy:** ```torch.dot``` <br>\n",
    "**Input:** Two vectors <br>\n",
    "**Output:** Scalar between -1 and 1 <br>"
   ]
  },
  {
   "cell_type": "markdown",
   "id": "16d435a5-010a-4b89-b49f-e649124b36d9",
   "metadata": {
    "slideshow": {
     "slide_type": "fragment"
    }
   },
   "source": [
    "The dot product captures something about . But what if we don't care about the length of the vectors? What if we just want to know how the align in terms of direction? The **cosine similarity** does just this. "
   ]
  },
  {
   "cell_type": "markdown",
   "id": "02294d83-ff3c-43f6-a5a6-6e1fcee83ff6",
   "metadata": {
    "slideshow": {
     "slide_type": "slide"
    }
   },
   "source": [
    "To calculate the cosine of the *angle* $\\theta$ between $U$ and $V$ we do the following:\n",
    "\n",
    "$$\n",
    "\\begin{equation}\n",
    "\\cos{\\theta} = \\frac{U \\cdot V}{\\lVert U \\rVert \\lVert V \\rVert}\n",
    "\\end{equation}\n",
    "$$"
   ]
  },
  {
   "cell_type": "markdown",
   "id": "c6d2ab41-4f01-4d84-8aa3-84bddf31e542",
   "metadata": {
    "slideshow": {
     "slide_type": "fragment"
    }
   },
   "source": [
    "The take the dot product of $U$ and $V$ and we \"normalize\" it by the product of the norm of both vectors."
   ]
  },
  {
   "cell_type": "markdown",
   "id": "99c3a1f2-2ee6-4c17-b38f-fda5fee3b4c9",
   "metadata": {
    "slideshow": {
     "slide_type": "slide"
    }
   },
   "source": [
    "The cosine similarity has some neat properties:\n",
    "\n",
    "- It only measures the angle between two vectors\n",
    "- It's always between -1 and 1, just like the cosine of an angle"
   ]
  },
  {
   "cell_type": "markdown",
   "id": "aeb2688c-f35f-44ef-9f87-2f7b33e0f409",
   "metadata": {
    "slideshow": {
     "slide_type": "fragment"
    }
   },
   "source": [
    "In NLP, cosine similarity is one of the most important tools, because it allows us to measures how similar representations of text as vectors are to each other!"
   ]
  },
  {
   "cell_type": "markdown",
   "id": "1ee83d90-6733-4097-b1e3-21d5b5365bd4",
   "metadata": {
    "slideshow": {
     "slide_type": "slide"
    }
   },
   "source": [
    "Let's try to write a function that formalizes the mathematical formula above!"
   ]
  },
  {
   "cell_type": "code",
   "execution_count": 69,
   "id": "f1ecb607-75a0-422e-a8a9-7be215c6cc36",
   "metadata": {
    "slideshow": {
     "slide_type": "fragment"
    }
   },
   "outputs": [],
   "source": [
    "def cosine_similarity(u, v):\n",
    "    dot_prod = np.dot(u,v)\n",
    "    u_norm = np.linalg.norm(u)\n",
    "    v_norm = np.linalg.norm(v)\n",
    "    \n",
    "    return dot_prod / (u_norm * v_norm)"
   ]
  },
  {
   "cell_type": "markdown",
   "id": "a81c2a0e-3650-4a11-9790-0e121b496a75",
   "metadata": {
    "slideshow": {
     "slide_type": "fragment"
    }
   },
   "source": [
    "Let's try it out!"
   ]
  },
  {
   "cell_type": "markdown",
   "id": "15e8ec40-01e9-4259-ac1e-669c86e99af7",
   "metadata": {
    "slideshow": {
     "slide_type": "fragment"
    }
   },
   "source": [
    "As expected, to cosine similarity between two orthogonal vectors is zero. They have nothing in common:"
   ]
  },
  {
   "cell_type": "code",
   "execution_count": 70,
   "id": "efb79f65-be5d-4fba-b9c8-8e72e23552a6",
   "metadata": {
    "slideshow": {
     "slide_type": "fragment"
    }
   },
   "outputs": [
    {
     "data": {
      "text/plain": [
       "0.0"
      ]
     },
     "execution_count": 70,
     "metadata": {},
     "output_type": "execute_result"
    }
   ],
   "source": [
    "cosine_similarity([3,0], [0,3])"
   ]
  },
  {
   "cell_type": "markdown",
   "id": "9909b265-9575-4fda-9e1b-8a0ef7668e73",
   "metadata": {
    "slideshow": {
     "slide_type": "slide"
    }
   },
   "source": [
    "And, now, it doesn't matter how long they are:"
   ]
  },
  {
   "cell_type": "code",
   "execution_count": 71,
   "id": "89d06626-4c40-4b9d-8d40-09543fee5c51",
   "metadata": {
    "slideshow": {
     "slide_type": "fragment"
    }
   },
   "outputs": [
    {
     "data": {
      "text/plain": [
       "0.0"
      ]
     },
     "execution_count": 71,
     "metadata": {},
     "output_type": "execute_result"
    }
   ],
   "source": [
    "cosine_similarity([10,0], [0,10])"
   ]
  },
  {
   "cell_type": "markdown",
   "id": "64dbe9b6-3dd2-4010-a5b8-17446bfe8ecb",
   "metadata": {
    "slideshow": {
     "slide_type": "fragment"
    }
   },
   "source": [
    "Vectors pointing in the opposite direction have maximum dissimilarity at -1:"
   ]
  },
  {
   "cell_type": "code",
   "execution_count": 72,
   "id": "06d0743d-9cbc-4a2d-bb09-03c55f4d8cfb",
   "metadata": {
    "slideshow": {
     "slide_type": "fragment"
    }
   },
   "outputs": [
    {
     "data": {
      "text/plain": [
       "-1.0"
      ]
     },
     "execution_count": 72,
     "metadata": {},
     "output_type": "execute_result"
    }
   ],
   "source": [
    "cosine_similarity([10,0], [-10,0])"
   ]
  },
  {
   "cell_type": "markdown",
   "id": "a7d53da1-b878-4c45-9d8f-54cc27e25ba8",
   "metadata": {
    "slideshow": {
     "slide_type": "fragment"
    }
   },
   "source": [
    "And vectors pointing in the same direction have maximum similarity at 1:"
   ]
  },
  {
   "cell_type": "code",
   "execution_count": 73,
   "id": "9015782c-a87e-42fd-8f3c-13a3b7c4fb07",
   "metadata": {
    "slideshow": {
     "slide_type": "fragment"
    }
   },
   "outputs": [
    {
     "data": {
      "text/plain": [
       "1.0"
      ]
     },
     "execution_count": 73,
     "metadata": {},
     "output_type": "execute_result"
    }
   ],
   "source": [
    "cosine_similarity([10,0], [10,0])"
   ]
  },
  {
   "cell_type": "markdown",
   "id": "53be399e-a51b-42d6-acd4-38cc622d5e8b",
   "metadata": {
    "slideshow": {
     "slide_type": "slide"
    }
   },
   "source": [
    "## 3. Matrices\n",
    "\n",
    "**NumPy:** ```np.array``` <br>\n",
    "**Torch:** ```torch.tensor``` <br>"
   ]
  },
  {
   "cell_type": "markdown",
   "id": "7aa804d6-5320-40f0-b168-4612e9313be8",
   "metadata": {
    "slideshow": {
     "slide_type": "fragment"
    },
    "tags": []
   },
   "source": [
    "There are four algebraic operations for matrices that we will need to perform.  For our definitions let us suppose that:\n",
    "\n",
    "- $A$ and $B$ are $m \\times n$ matrices, i.e. they are in $\\mathbb{R}^{m \\times n}$,\n",
    "- $C$ is an $n \\times k$ matrix,  i.e. it's in $\\mathbb{R}^{n \\times k}$ and \n",
    "- $c$ is a number, i.e. it's in $\\mathbb{R}$.  \n"
   ]
  },
  {
   "cell_type": "markdown",
   "id": "77caecb8-f4ae-415b-b7b8-2f3e9cc21be5",
   "metadata": {
    "slideshow": {
     "slide_type": "slide"
    }
   },
   "source": [
    "To make things clearer, let's define these matrices. We will give $A$ and $B$ the dimensions $3 \\times 2$ and we'll give $C$ the dimensions $2 \\times 4$. Our scalar is $c=2$."
   ]
  },
  {
   "cell_type": "code",
   "execution_count": 74,
   "id": "ab79bc59-3a70-4b8f-bd86-309d7fc1f01f",
   "metadata": {
    "slideshow": {
     "slide_type": "fragment"
    }
   },
   "outputs": [
    {
     "data": {
      "text/plain": [
       "array([[1, 2],\n",
       "       [3, 4],\n",
       "       [5, 6]])"
      ]
     },
     "execution_count": 74,
     "metadata": {},
     "output_type": "execute_result"
    }
   ],
   "source": [
    "A = np.array([[1,2], [3,4], [5,6]])\n",
    "A"
   ]
  },
  {
   "cell_type": "code",
   "execution_count": 75,
   "id": "e1146f31-dfc2-47f8-9182-44172565aaf6",
   "metadata": {
    "slideshow": {
     "slide_type": "fragment"
    }
   },
   "outputs": [
    {
     "data": {
      "text/plain": [
       "array([[2, 2],\n",
       "       [1, 1],\n",
       "       [2, 2]])"
      ]
     },
     "execution_count": 75,
     "metadata": {},
     "output_type": "execute_result"
    }
   ],
   "source": [
    "B = np.array([[2,2], [1,1], [2,2]])\n",
    "B"
   ]
  },
  {
   "cell_type": "code",
   "execution_count": 59,
   "id": "2581c408-4155-4b09-8c0e-21054642e94b",
   "metadata": {
    "slideshow": {
     "slide_type": "fragment"
    }
   },
   "outputs": [
    {
     "data": {
      "text/plain": [
       "array([[1, 2, 3, 4],\n",
       "       [4, 3, 2, 1]])"
      ]
     },
     "execution_count": 59,
     "metadata": {},
     "output_type": "execute_result"
    }
   ],
   "source": [
    "C = np.array([[1,2,3,4], [4,3,2,1]])\n",
    "C"
   ]
  },
  {
   "cell_type": "code",
   "execution_count": 60,
   "id": "889e8670-9691-4c0e-af72-413f1cbc1976",
   "metadata": {
    "slideshow": {
     "slide_type": "fragment"
    }
   },
   "outputs": [],
   "source": [
    "c = 2"
   ]
  },
  {
   "cell_type": "markdown",
   "id": "49e59682-ff1e-4fc4-b93a-e15b65c413fd",
   "metadata": {
    "slideshow": {
     "slide_type": "slide"
    },
    "tags": []
   },
   "source": [
    "### 3.1. Scalar multiplication\n",
    "\n",
    "**Python:** ```*``` <br>\n",
    "**NumPy:**```np.dot``` <br>\n",
    "**Torch**: ```*``` <br>\n",
    "**Input:** Scalar along with matrix  <br>\n",
    "**Output:** Matrix <br>\n",
    "\n",
    "A matrix of any shape can be multiplied by a scalar.  The result is that all entries are multiplied by that scalar.  Using the subscript notation, we would write\n",
    "\n",
    "$$\n",
    "(cA)_{ij} = ca_{ij}\n",
    "$$\n"
   ]
  },
  {
   "cell_type": "code",
   "execution_count": 61,
   "id": "b11462ba-37f7-493a-b4b6-2ebedff44375",
   "metadata": {
    "slideshow": {
     "slide_type": "slide"
    }
   },
   "outputs": [
    {
     "data": {
      "text/plain": [
       "array([[ 2,  4],\n",
       "       [ 6,  8],\n",
       "       [10, 12]])"
      ]
     },
     "execution_count": 61,
     "metadata": {},
     "output_type": "execute_result"
    }
   ],
   "source": [
    "c*A"
   ]
  },
  {
   "cell_type": "code",
   "execution_count": 62,
   "id": "1f20df3c-0e2f-494b-b952-205cd1ff3371",
   "metadata": {
    "slideshow": {
     "slide_type": "fragment"
    }
   },
   "outputs": [
    {
     "data": {
      "text/plain": [
       "array([[ 2,  4],\n",
       "       [ 6,  8],\n",
       "       [10, 12]])"
      ]
     },
     "execution_count": 62,
     "metadata": {},
     "output_type": "execute_result"
    }
   ],
   "source": [
    "np.dot(c, A)"
   ]
  },
  {
   "cell_type": "code",
   "execution_count": 63,
   "id": "37f76ba2-5fb0-4746-a798-e3b2e75ad96c",
   "metadata": {
    "slideshow": {
     "slide_type": "fragment"
    }
   },
   "outputs": [
    {
     "data": {
      "text/plain": [
       "tensor([[ 2,  4],\n",
       "        [ 6,  8],\n",
       "        [10, 12]])"
      ]
     },
     "execution_count": 63,
     "metadata": {},
     "output_type": "execute_result"
    }
   ],
   "source": [
    "c * torch.tensor(A)"
   ]
  },
  {
   "cell_type": "markdown",
   "id": "724c1f3b-d2ca-4c0e-8dfd-5f0d6f89a3a7",
   "metadata": {
    "slideshow": {
     "slide_type": "slide"
    },
    "tags": []
   },
   "source": [
    "### 3.2. Matrix Addition and Subtraction\n",
    "\n",
    "**Python:** ```+``` and ```-``` <br>\n",
    "**NumPy:**```np.add``` and ```np.subtract``` <br>\n",
    "**Torch**: ```torch.add``` and ```torch.subtract``` <br>\n",
    "\n",
    "Two matrices that *have the same shape* can be added.  The result is that all corresponding entries are added.\n",
    "\n",
    "$$\n",
    "(A+B)_{ij} = a_{ij} + b_{ij}\n",
    "$$"
   ]
  },
  {
   "cell_type": "code",
   "execution_count": 70,
   "id": "031d8ee3-b4e0-43bc-9213-75f195d77b12",
   "metadata": {
    "slideshow": {
     "slide_type": "slide"
    }
   },
   "outputs": [
    {
     "data": {
      "text/plain": [
       "array([[3, 4],\n",
       "       [4, 5],\n",
       "       [7, 8]])"
      ]
     },
     "execution_count": 70,
     "metadata": {},
     "output_type": "execute_result"
    }
   ],
   "source": [
    "A + B"
   ]
  },
  {
   "cell_type": "code",
   "execution_count": 71,
   "id": "abdf4608-1ce5-4d12-a01e-9fd600cf8629",
   "metadata": {
    "slideshow": {
     "slide_type": "fragment"
    }
   },
   "outputs": [
    {
     "data": {
      "text/plain": [
       "array([[3, 4],\n",
       "       [4, 5],\n",
       "       [7, 8]])"
      ]
     },
     "execution_count": 71,
     "metadata": {},
     "output_type": "execute_result"
    }
   ],
   "source": [
    "np.add(A, B)"
   ]
  },
  {
   "cell_type": "code",
   "execution_count": 72,
   "id": "b2676131-0c51-4c0a-bc9a-47153ac65e15",
   "metadata": {
    "slideshow": {
     "slide_type": "fragment"
    }
   },
   "outputs": [
    {
     "data": {
      "text/plain": [
       "tensor([[3, 4],\n",
       "        [4, 5],\n",
       "        [7, 8]])"
      ]
     },
     "execution_count": 72,
     "metadata": {},
     "output_type": "execute_result"
    }
   ],
   "source": [
    "torch.add(torch.tensor(A), \n",
    "          torch.tensor(B))"
   ]
  },
  {
   "cell_type": "code",
   "execution_count": 73,
   "id": "2d53bfa3-bcc3-4066-8639-7dfeba027351",
   "metadata": {
    "slideshow": {
     "slide_type": "slide"
    }
   },
   "outputs": [
    {
     "data": {
      "text/plain": [
       "array([[-1,  0],\n",
       "       [ 2,  3],\n",
       "       [ 3,  4]])"
      ]
     },
     "execution_count": 73,
     "metadata": {},
     "output_type": "execute_result"
    }
   ],
   "source": [
    "A - B"
   ]
  },
  {
   "cell_type": "code",
   "execution_count": 74,
   "id": "5427457f-3483-42e9-bc1c-0defb03560a5",
   "metadata": {
    "slideshow": {
     "slide_type": "fragment"
    }
   },
   "outputs": [
    {
     "data": {
      "text/plain": [
       "array([[-1,  0],\n",
       "       [ 2,  3],\n",
       "       [ 3,  4]])"
      ]
     },
     "execution_count": 74,
     "metadata": {},
     "output_type": "execute_result"
    }
   ],
   "source": [
    "np.subtract(A, B)"
   ]
  },
  {
   "cell_type": "code",
   "execution_count": 75,
   "id": "3fb77775-3ca2-4255-abd4-8510deb90f60",
   "metadata": {
    "slideshow": {
     "slide_type": "fragment"
    }
   },
   "outputs": [
    {
     "data": {
      "text/plain": [
       "tensor([[-1,  0],\n",
       "        [ 2,  3],\n",
       "        [ 3,  4]])"
      ]
     },
     "execution_count": 75,
     "metadata": {},
     "output_type": "execute_result"
    }
   ],
   "source": [
    "torch.subtract(torch.tensor(A), \n",
    "               torch.tensor(B))"
   ]
  },
  {
   "cell_type": "markdown",
   "id": "d7bf99f3-1a65-4c5d-8461-572c1f2f1d0c",
   "metadata": {
    "slideshow": {
     "slide_type": "slide"
    },
    "tags": []
   },
   "source": [
    "### 3.3. Element-wise multiplication\n",
    "\n",
    "**Names:** [Hadamard product](https://en.wikipedia.org/wiki/Hadamard_product_(matrices)), element-wise product, entrywise product <br>\n",
    "**Python:** ```*``` <br>\n",
    "**NumPy:**```np.multiply``` <br>\n",
    "**Torch**: ```torch.mul``` <br>\n",
    "\n",
    "\n",
    "Two matrices that *have the same shape* can be multiplied *element-wise*. This is different from matrix multiplication, which is described below. The result of element-wise multiplication of matrices $A, B$ is a new matrix $AB$ with the same dimensions as $A$ and $B$. The result is that all corresponding entries are multiplied.\n",
    "\n",
    "$$\n",
    "(A \\odot B)_{ij} = a_{ij} \\dot b_{ij}\n",
    "$$\n"
   ]
  },
  {
   "cell_type": "markdown",
   "id": "92996e48-3de2-4676-bfb9-bf1024c647d5",
   "metadata": {
    "slideshow": {
     "slide_type": "slide"
    }
   },
   "source": [
    "In Python, we do this using the ```*```:"
   ]
  },
  {
   "cell_type": "code",
   "execution_count": 76,
   "id": "dca5c6e0-3861-4fe6-aa4e-7ef479bf6e7d",
   "metadata": {
    "slideshow": {
     "slide_type": "fragment"
    }
   },
   "outputs": [
    {
     "data": {
      "text/plain": [
       "array([[ 2,  4],\n",
       "       [ 3,  4],\n",
       "       [10, 12]])"
      ]
     },
     "execution_count": 76,
     "metadata": {},
     "output_type": "execute_result"
    }
   ],
   "source": [
    "A*B"
   ]
  },
  {
   "cell_type": "markdown",
   "id": "5233bd73-6918-4ef0-86ba-ce29cea7bb8c",
   "metadata": {
    "slideshow": {
     "slide_type": "fragment"
    }
   },
   "source": [
    "As we can see, it doesn't matter in which order we do element-wise multiplication:"
   ]
  },
  {
   "cell_type": "code",
   "execution_count": 77,
   "id": "b0d62a6e-4bfc-4c15-b5da-858df10cd9cc",
   "metadata": {
    "slideshow": {
     "slide_type": "fragment"
    }
   },
   "outputs": [
    {
     "data": {
      "text/plain": [
       "array([[ 2,  4],\n",
       "       [ 3,  4],\n",
       "       [10, 12]])"
      ]
     },
     "execution_count": 77,
     "metadata": {},
     "output_type": "execute_result"
    }
   ],
   "source": [
    "B*A"
   ]
  },
  {
   "cell_type": "markdown",
   "id": "c57f7736-d096-40d4-b8eb-8b8761666288",
   "metadata": {
    "slideshow": {
     "slide_type": "slide"
    }
   },
   "source": [
    "In NumPy, the appropriate function ```np.multiply```..."
   ]
  },
  {
   "cell_type": "code",
   "execution_count": 78,
   "id": "dfeee09f-6032-4323-93f0-c2d0644b52e3",
   "metadata": {
    "slideshow": {
     "slide_type": "fragment"
    }
   },
   "outputs": [
    {
     "data": {
      "text/plain": [
       "array([[ 2,  4],\n",
       "       [ 3,  4],\n",
       "       [10, 12]])"
      ]
     },
     "execution_count": 78,
     "metadata": {},
     "output_type": "execute_result"
    }
   ],
   "source": [
    "np.multiply(A,B)"
   ]
  },
  {
   "cell_type": "markdown",
   "id": "5c6cfaf2-72fe-40a0-ab39-0e6a87c1ad00",
   "metadata": {
    "slideshow": {
     "slide_type": "fragment"
    }
   },
   "source": [
    "...and in Torch, it is ```torch.mul```:"
   ]
  },
  {
   "cell_type": "code",
   "execution_count": 79,
   "id": "6699a75b-10de-407d-a89d-3ee63bc74c01",
   "metadata": {
    "slideshow": {
     "slide_type": "fragment"
    }
   },
   "outputs": [
    {
     "data": {
      "text/plain": [
       "tensor([[ 2,  4],\n",
       "        [ 3,  4],\n",
       "        [10, 12]])"
      ]
     },
     "execution_count": 79,
     "metadata": {},
     "output_type": "execute_result"
    }
   ],
   "source": [
    "torch.mul(torch.tensor(A), \n",
    "          torch.tensor(B))"
   ]
  },
  {
   "cell_type": "markdown",
   "id": "aa7b8641-a7c0-420c-b1fe-32c7364da79f",
   "metadata": {
    "slideshow": {
     "slide_type": "slide"
    },
    "tags": []
   },
   "source": [
    "### 3.4. Matrix multiplication\n",
    "\n",
    "**Names:** Matrix multiplication, matrix product, Dot product (for vectors, but used more widely) <br>\n",
    "**Python:** ```@``` <br>\n",
    "**NumPy:**```np.dot``` <br>\n",
    "**Torch**: ```torch.matmul``` <br>\n",
    "**Input**: ```n x m```and ```m x k``` matrices <br>\n",
    "**Output:** ```n x k``` matrix"
   ]
  },
  {
   "cell_type": "markdown",
   "id": "acd1305f",
   "metadata": {},
   "source": [
    "- If the number of columns of matrix $A$ is equal to the number of rows of matrix $C$, the matrices can be multiplied in the order $A$, $C$. \n",
    "- The result will be a new matrix $AC$, that has the same number of rows as $A$ and the same number of columns as $C$. \n",
    "- The entries $(AC)_{ij}$ will be the following combination of the entries of row $i$ of $A$ and column $j$ of $B$.\n",
    "\n",
    "$$\n",
    "(AC)_{ij} = \\sum_{k=1}^n a_{ik}c_{kj}\n",
    "$$"
   ]
  },
  {
   "cell_type": "code",
   "execution_count": 80,
   "id": "f8d49e2b",
   "metadata": {
    "slideshow": {
     "slide_type": "slide"
    }
   },
   "outputs": [
    {
     "data": {
      "text/plain": [
       "(3, 2)"
      ]
     },
     "execution_count": 80,
     "metadata": {},
     "output_type": "execute_result"
    }
   ],
   "source": [
    "A.shape"
   ]
  },
  {
   "cell_type": "code",
   "execution_count": 81,
   "id": "1e369ee9-f758-4491-acbb-535aa27659d8",
   "metadata": {
    "slideshow": {
     "slide_type": "slide"
    }
   },
   "outputs": [
    {
     "data": {
      "text/plain": [
       "(2, 4)"
      ]
     },
     "execution_count": 81,
     "metadata": {},
     "output_type": "execute_result"
    }
   ],
   "source": [
    "C.shape"
   ]
  },
  {
   "cell_type": "code",
   "execution_count": 82,
   "id": "149ff939-0c43-4845-b17c-5ba44f130186",
   "metadata": {
    "slideshow": {
     "slide_type": "slide"
    }
   },
   "outputs": [
    {
     "data": {
      "text/plain": [
       "True"
      ]
     },
     "execution_count": 82,
     "metadata": {},
     "output_type": "execute_result"
    }
   ],
   "source": [
    "A.shape[1] == C.shape[0]"
   ]
  },
  {
   "cell_type": "code",
   "execution_count": 83,
   "id": "3e386223-f4f1-4dc9-bb0b-ae8cf4e96667",
   "metadata": {},
   "outputs": [
    {
     "data": {
      "text/plain": [
       "array([[ 9,  8,  7,  6],\n",
       "       [19, 18, 17, 16],\n",
       "       [29, 28, 27, 26]])"
      ]
     },
     "execution_count": 83,
     "metadata": {},
     "output_type": "execute_result"
    }
   ],
   "source": [
    "A @ C"
   ]
  },
  {
   "cell_type": "code",
   "execution_count": 84,
   "id": "fc9c42f5-ef50-491e-8750-9f24911e37e1",
   "metadata": {},
   "outputs": [
    {
     "data": {
      "text/plain": [
       "(3, 4)"
      ]
     },
     "execution_count": 84,
     "metadata": {},
     "output_type": "execute_result"
    }
   ],
   "source": [
    "(A @ C).shape"
   ]
  },
  {
   "cell_type": "code",
   "execution_count": 85,
   "id": "97cb4d4a-5c1b-4955-85ee-28843f7bddc8",
   "metadata": {},
   "outputs": [
    {
     "data": {
      "text/plain": [
       "True"
      ]
     },
     "execution_count": 85,
     "metadata": {},
     "output_type": "execute_result"
    }
   ],
   "source": [
    "(A @ C).shape[0] == A.shape[0]"
   ]
  },
  {
   "cell_type": "code",
   "execution_count": 86,
   "id": "f70ca696-0140-48f2-bca2-1524ed41eefc",
   "metadata": {},
   "outputs": [
    {
     "data": {
      "text/plain": [
       "True"
      ]
     },
     "execution_count": 86,
     "metadata": {},
     "output_type": "execute_result"
    }
   ],
   "source": [
    "(A @ C).shape[1] == C.shape[1]"
   ]
  },
  {
   "cell_type": "markdown",
   "id": "312a507e-0236-4577-980b-5e201ca5c630",
   "metadata": {},
   "source": [
    "And, of course, we could do all of this with numpy..."
   ]
  },
  {
   "cell_type": "code",
   "execution_count": 87,
   "id": "fd798271-f0ab-4f8b-afad-1c3100b06e73",
   "metadata": {},
   "outputs": [
    {
     "data": {
      "text/plain": [
       "array([[ 9,  8,  7,  6],\n",
       "       [19, 18, 17, 16],\n",
       "       [29, 28, 27, 26]])"
      ]
     },
     "execution_count": 87,
     "metadata": {},
     "output_type": "execute_result"
    }
   ],
   "source": [
    "np.dot(A, C)"
   ]
  },
  {
   "cell_type": "markdown",
   "id": "bc0b8843-b559-46b6-9dab-0bcfdcb3ee0e",
   "metadata": {},
   "source": [
    "... or torch."
   ]
  },
  {
   "cell_type": "code",
   "execution_count": 88,
   "id": "6adaff97-6c28-4ffb-beee-84a6be4ef57c",
   "metadata": {},
   "outputs": [
    {
     "data": {
      "text/plain": [
       "tensor([[ 9,  8,  7,  6],\n",
       "        [19, 18, 17, 16],\n",
       "        [29, 28, 27, 26]])"
      ]
     },
     "execution_count": 88,
     "metadata": {},
     "output_type": "execute_result"
    }
   ],
   "source": [
    "torch.matmul(torch.tensor(A), \n",
    "             torch.tensor(C))"
   ]
  },
  {
   "cell_type": "markdown",
   "id": "a44e80a9-e657-4c27-baa0-7ea6aa33d888",
   "metadata": {},
   "source": [
    "However, if we try to multiply the matrices in reverse order, there will be trouble:"
   ]
  },
  {
   "cell_type": "code",
   "execution_count": 89,
   "id": "b6ba9bb5-dad2-491f-9f95-e1e5422ad513",
   "metadata": {},
   "outputs": [
    {
     "ename": "ValueError",
     "evalue": "shapes (2,4) and (3,2) not aligned: 4 (dim 1) != 3 (dim 0)",
     "output_type": "error",
     "traceback": [
      "\u001b[0;31m---------------------------------------------------------------------------\u001b[0m",
      "\u001b[0;31mValueError\u001b[0m                                Traceback (most recent call last)",
      "Input \u001b[0;32mIn [89]\u001b[0m, in \u001b[0;36m<cell line: 1>\u001b[0;34m()\u001b[0m\n\u001b[0;32m----> 1\u001b[0m \u001b[43mnp\u001b[49m\u001b[38;5;241;43m.\u001b[39;49m\u001b[43mdot\u001b[49m\u001b[43m(\u001b[49m\u001b[43mC\u001b[49m\u001b[43m,\u001b[49m\u001b[43mA\u001b[49m\u001b[43m)\u001b[49m\n",
      "\u001b[0;31mValueError\u001b[0m: shapes (2,4) and (3,2) not aligned: 4 (dim 1) != 3 (dim 0)"
     ]
    }
   ],
   "source": [
    "np.dot(C,A)"
   ]
  },
  {
   "cell_type": "code",
   "execution_count": 90,
   "id": "93d5ba0b-6761-424e-94ab-1027464501c3",
   "metadata": {},
   "outputs": [
    {
     "ename": "ValueError",
     "evalue": "matmul: Input operand 1 has a mismatch in its core dimension 0, with gufunc signature (n?,k),(k,m?)->(n?,m?) (size 3 is different from 4)",
     "output_type": "error",
     "traceback": [
      "\u001b[0;31m---------------------------------------------------------------------------\u001b[0m",
      "\u001b[0;31mValueError\u001b[0m                                Traceback (most recent call last)",
      "Input \u001b[0;32mIn [90]\u001b[0m, in \u001b[0;36m<cell line: 1>\u001b[0;34m()\u001b[0m\n\u001b[0;32m----> 1\u001b[0m \u001b[43mC\u001b[49m\u001b[43m \u001b[49m\u001b[38;5;241;43m@\u001b[39;49m\u001b[43m \u001b[49m\u001b[43mA\u001b[49m\n",
      "\u001b[0;31mValueError\u001b[0m: matmul: Input operand 1 has a mismatch in its core dimension 0, with gufunc signature (n?,k),(k,m?)->(n?,m?) (size 3 is different from 4)"
     ]
    }
   ],
   "source": [
    "C @ A"
   ]
  },
  {
   "cell_type": "code",
   "execution_count": 91,
   "id": "3c9e90e3-df04-4afd-ac76-4ac8804d2411",
   "metadata": {},
   "outputs": [
    {
     "ename": "RuntimeError",
     "evalue": "mat1 and mat2 shapes cannot be multiplied (2x4 and 3x2)",
     "output_type": "error",
     "traceback": [
      "\u001b[0;31m---------------------------------------------------------------------------\u001b[0m",
      "\u001b[0;31mRuntimeError\u001b[0m                              Traceback (most recent call last)",
      "Input \u001b[0;32mIn [91]\u001b[0m, in \u001b[0;36m<cell line: 1>\u001b[0;34m()\u001b[0m\n\u001b[0;32m----> 1\u001b[0m \u001b[43mtorch\u001b[49m\u001b[38;5;241;43m.\u001b[39;49m\u001b[43mmatmul\u001b[49m\u001b[43m(\u001b[49m\u001b[43mtorch\u001b[49m\u001b[38;5;241;43m.\u001b[39;49m\u001b[43mtensor\u001b[49m\u001b[43m(\u001b[49m\u001b[43mC\u001b[49m\u001b[43m)\u001b[49m\u001b[43m,\u001b[49m\u001b[43m \u001b[49m\n\u001b[1;32m      2\u001b[0m \u001b[43m             \u001b[49m\u001b[43mtorch\u001b[49m\u001b[38;5;241;43m.\u001b[39;49m\u001b[43mtensor\u001b[49m\u001b[43m(\u001b[49m\u001b[43mA\u001b[49m\u001b[43m)\u001b[49m\u001b[43m)\u001b[49m\n",
      "\u001b[0;31mRuntimeError\u001b[0m: mat1 and mat2 shapes cannot be multiplied (2x4 and 3x2)"
     ]
    }
   ],
   "source": [
    "torch.matmul(torch.tensor(C), \n",
    "             torch.tensor(A))"
   ]
  },
  {
   "cell_type": "markdown",
   "id": "3c4b4fd9-b3a6-4f92-b01e-f8edb8abfa4b",
   "metadata": {},
   "source": [
    "### 3.5. Special Types of Matrices\n",
    "\n",
    "- There are very many different types of \"special\" matrices\n",
    "- There are a couple we might touch upon durin these course"
   ]
  },
  {
   "cell_type": "markdown",
   "id": "84acadc4-8708-4a08-a303-3ab7e5bcf155",
   "metadata": {},
   "source": [
    "#### 3.5.1. Transpose\n",
    "\n",
    "Turns rows into columns and columns into rows."
   ]
  },
  {
   "cell_type": "code",
   "execution_count": 92,
   "id": "2acf5f9d-d75b-4c65-b5eb-7f55c60c54bb",
   "metadata": {},
   "outputs": [
    {
     "data": {
      "text/plain": [
       "array([[1, 3, 5],\n",
       "       [2, 4, 6]])"
      ]
     },
     "execution_count": 92,
     "metadata": {},
     "output_type": "execute_result"
    }
   ],
   "source": [
    "np.transpose(A)"
   ]
  },
  {
   "cell_type": "code",
   "execution_count": 93,
   "id": "3129b8fe-4ad5-4eb4-ac23-f7dbe1cb321f",
   "metadata": {},
   "outputs": [
    {
     "data": {
      "text/plain": [
       "tensor([[1, 3, 5],\n",
       "        [2, 4, 6]])"
      ]
     },
     "execution_count": 93,
     "metadata": {},
     "output_type": "execute_result"
    }
   ],
   "source": [
    "torch.transpose(torch.tensor(A), 0, 1)"
   ]
  },
  {
   "cell_type": "markdown",
   "id": "7720a997-3efb-49c6-b7ed-a833535befc5",
   "metadata": {},
   "source": [
    "#### 3.5.2. Identity\n",
    "\n",
    "Effectively the number 1 of matrix operations:"
   ]
  },
  {
   "cell_type": "code",
   "execution_count": 94,
   "id": "e80f77a9-40a0-4814-971f-4ab2b66a018f",
   "metadata": {},
   "outputs": [
    {
     "data": {
      "text/plain": [
       "array([[1, 0, 0],\n",
       "       [0, 1, 0],\n",
       "       [0, 0, 1]])"
      ]
     },
     "execution_count": 94,
     "metadata": {},
     "output_type": "execute_result"
    }
   ],
   "source": [
    "np.array([[1,0,0],[0,1,0],[0,0,1]])"
   ]
  },
  {
   "cell_type": "code",
   "execution_count": 95,
   "id": "363761fe-2dd9-456e-9259-d4b61e8d7d4d",
   "metadata": {},
   "outputs": [
    {
     "data": {
      "text/plain": [
       "array([1, 2, 3])"
      ]
     },
     "execution_count": 95,
     "metadata": {},
     "output_type": "execute_result"
    }
   ],
   "source": [
    "np.array([[1,0,0],[0,1,0],[0,0,1]]) @ np.array([1,2,3])"
   ]
  },
  {
   "cell_type": "code",
   "execution_count": 96,
   "id": "4fb2f027-c358-430b-83a7-51d207d89cea",
   "metadata": {},
   "outputs": [
    {
     "data": {
      "text/plain": [
       "array([[1, 2, 3],\n",
       "       [4, 5, 6],\n",
       "       [7, 8, 9]])"
      ]
     },
     "execution_count": 96,
     "metadata": {},
     "output_type": "execute_result"
    }
   ],
   "source": [
    "np.array([[1,0,0],[0,1,0],[0,0,1]]) @ np.array([[1,2,3], [4,5,6], [7,8,9]])"
   ]
  }
 ],
 "metadata": {
  "celltoolbar": "Slideshow",
  "kernelspec": {
   "display_name": "Python 3 (ipykernel)",
   "language": "python",
   "name": "python3"
  },
  "language_info": {
   "codemirror_mode": {
    "name": "ipython",
    "version": 3
   },
   "file_extension": ".py",
   "mimetype": "text/x-python",
   "name": "python",
   "nbconvert_exporter": "python",
   "pygments_lexer": "ipython3",
   "version": "3.11.4"
  }
 },
 "nbformat": 4,
 "nbformat_minor": 5
}
